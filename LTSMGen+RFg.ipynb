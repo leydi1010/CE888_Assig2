{
  "nbformat": 4,
  "nbformat_minor": 0,
  "metadata": {
    "colab": {
      "provenance": [],
      "gpuType": "T4",
      "authorship_tag": "ABX9TyOfoOJ2LUrdw1YBnyqrnXvG"
    },
    "kernelspec": {
      "name": "python3",
      "display_name": "Python 3"
    },
    "language_info": {
      "name": "python"
    },
    "gpuClass": "standard"
  },
  "cells": [
    {
      "cell_type": "code",
      "execution_count": null,
      "metadata": {
        "id": "6KRyWS4ZtDzI"
      },
      "outputs": [],
      "source": [
        "import matplotlib\n",
        "import numpy as np\n",
        "import matplotlib.pyplot as plt\n",
        "import pandas as pd\n",
        "import datetime\n",
        "import random"
      ]
    },
    {
      "cell_type": "code",
      "source": [
        "# tensorflow imports\n",
        "from tensorflow import keras\n",
        "from keras import layers, models\n",
        "from keras.callbacks import EarlyStopping, ModelCheckpoint\n",
        "from sklearn.model_selection import train_test_split"
      ],
      "metadata": {
        "id": "YlYg_vpdPBnj"
      },
      "execution_count": null,
      "outputs": []
    },
    {
      "cell_type": "markdown",
      "source": [
        "Here import the file that contains the prepared data-set. As the experiment is not done under the the same time condition, we have to standardize the lengh data for each participant, just in that case the data-set can be used to train a LSTM. \n",
        "We set it to the smallest time series, it was 54 points(each point comes from the merge30 which is a data average of 30 seconds).  After pre processing it we have as a result that a dataset of 1836 points"
      ],
      "metadata": {
        "id": "tm2JBOfK2Lyc"
      }
    },
    {
      "cell_type": "code",
      "source": [
        "DatLSTM = pd.read_excel('DataLSTM_levels.xlsx')\n",
        "DatLSTM = DatLSTM.dropna()\n",
        "D_Lstm2 = DatLSTM.copy()\n",
        "D_Lstm2 = D_Lstm2.drop(['Participant','stress',], axis = 1)\n",
        "#invoices.drop(['client'], axis=1)\n",
        "D_Lstm2.head()"
      ],
      "metadata": {
        "id": "4PuVFFxUmOMs",
        "colab": {
          "base_uri": "https://localhost:8080/",
          "height": 206
        },
        "outputId": "1739322c-3f6b-4a91-af1d-184abd08d9a1"
      },
      "execution_count": null,
      "outputs": [
        {
          "output_type": "execute_result",
          "data": {
            "text/plain": [
              "   Unnamed: 0         HR       EDA       Temp  Label\n",
              "0         5.0  72.987667  0.191197  35.878667    0.0\n",
              "1         6.0  83.833000  0.222997  35.955333    0.0\n",
              "2         7.0  87.537000  0.247216  36.054667    0.0\n",
              "3         8.0  84.711667  0.262016  36.133000    0.0\n",
              "4         9.0  92.909333  0.265123  36.176000    0.0"
            ],
            "text/html": [
              "\n",
              "  <div id=\"df-7643741d-63b3-4fc6-afac-96cf24c7fa03\">\n",
              "    <div class=\"colab-df-container\">\n",
              "      <div>\n",
              "<style scoped>\n",
              "    .dataframe tbody tr th:only-of-type {\n",
              "        vertical-align: middle;\n",
              "    }\n",
              "\n",
              "    .dataframe tbody tr th {\n",
              "        vertical-align: top;\n",
              "    }\n",
              "\n",
              "    .dataframe thead th {\n",
              "        text-align: right;\n",
              "    }\n",
              "</style>\n",
              "<table border=\"1\" class=\"dataframe\">\n",
              "  <thead>\n",
              "    <tr style=\"text-align: right;\">\n",
              "      <th></th>\n",
              "      <th>Unnamed: 0</th>\n",
              "      <th>HR</th>\n",
              "      <th>EDA</th>\n",
              "      <th>Temp</th>\n",
              "      <th>Label</th>\n",
              "    </tr>\n",
              "  </thead>\n",
              "  <tbody>\n",
              "    <tr>\n",
              "      <th>0</th>\n",
              "      <td>5.0</td>\n",
              "      <td>72.987667</td>\n",
              "      <td>0.191197</td>\n",
              "      <td>35.878667</td>\n",
              "      <td>0.0</td>\n",
              "    </tr>\n",
              "    <tr>\n",
              "      <th>1</th>\n",
              "      <td>6.0</td>\n",
              "      <td>83.833000</td>\n",
              "      <td>0.222997</td>\n",
              "      <td>35.955333</td>\n",
              "      <td>0.0</td>\n",
              "    </tr>\n",
              "    <tr>\n",
              "      <th>2</th>\n",
              "      <td>7.0</td>\n",
              "      <td>87.537000</td>\n",
              "      <td>0.247216</td>\n",
              "      <td>36.054667</td>\n",
              "      <td>0.0</td>\n",
              "    </tr>\n",
              "    <tr>\n",
              "      <th>3</th>\n",
              "      <td>8.0</td>\n",
              "      <td>84.711667</td>\n",
              "      <td>0.262016</td>\n",
              "      <td>36.133000</td>\n",
              "      <td>0.0</td>\n",
              "    </tr>\n",
              "    <tr>\n",
              "      <th>4</th>\n",
              "      <td>9.0</td>\n",
              "      <td>92.909333</td>\n",
              "      <td>0.265123</td>\n",
              "      <td>36.176000</td>\n",
              "      <td>0.0</td>\n",
              "    </tr>\n",
              "  </tbody>\n",
              "</table>\n",
              "</div>\n",
              "      <button class=\"colab-df-convert\" onclick=\"convertToInteractive('df-7643741d-63b3-4fc6-afac-96cf24c7fa03')\"\n",
              "              title=\"Convert this dataframe to an interactive table.\"\n",
              "              style=\"display:none;\">\n",
              "        \n",
              "  <svg xmlns=\"http://www.w3.org/2000/svg\" height=\"24px\"viewBox=\"0 0 24 24\"\n",
              "       width=\"24px\">\n",
              "    <path d=\"M0 0h24v24H0V0z\" fill=\"none\"/>\n",
              "    <path d=\"M18.56 5.44l.94 2.06.94-2.06 2.06-.94-2.06-.94-.94-2.06-.94 2.06-2.06.94zm-11 1L8.5 8.5l.94-2.06 2.06-.94-2.06-.94L8.5 2.5l-.94 2.06-2.06.94zm10 10l.94 2.06.94-2.06 2.06-.94-2.06-.94-.94-2.06-.94 2.06-2.06.94z\"/><path d=\"M17.41 7.96l-1.37-1.37c-.4-.4-.92-.59-1.43-.59-.52 0-1.04.2-1.43.59L10.3 9.45l-7.72 7.72c-.78.78-.78 2.05 0 2.83L4 21.41c.39.39.9.59 1.41.59.51 0 1.02-.2 1.41-.59l7.78-7.78 2.81-2.81c.8-.78.8-2.07 0-2.86zM5.41 20L4 18.59l7.72-7.72 1.47 1.35L5.41 20z\"/>\n",
              "  </svg>\n",
              "      </button>\n",
              "      \n",
              "  <style>\n",
              "    .colab-df-container {\n",
              "      display:flex;\n",
              "      flex-wrap:wrap;\n",
              "      gap: 12px;\n",
              "    }\n",
              "\n",
              "    .colab-df-convert {\n",
              "      background-color: #E8F0FE;\n",
              "      border: none;\n",
              "      border-radius: 50%;\n",
              "      cursor: pointer;\n",
              "      display: none;\n",
              "      fill: #1967D2;\n",
              "      height: 32px;\n",
              "      padding: 0 0 0 0;\n",
              "      width: 32px;\n",
              "    }\n",
              "\n",
              "    .colab-df-convert:hover {\n",
              "      background-color: #E2EBFA;\n",
              "      box-shadow: 0px 1px 2px rgba(60, 64, 67, 0.3), 0px 1px 3px 1px rgba(60, 64, 67, 0.15);\n",
              "      fill: #174EA6;\n",
              "    }\n",
              "\n",
              "    [theme=dark] .colab-df-convert {\n",
              "      background-color: #3B4455;\n",
              "      fill: #D2E3FC;\n",
              "    }\n",
              "\n",
              "    [theme=dark] .colab-df-convert:hover {\n",
              "      background-color: #434B5C;\n",
              "      box-shadow: 0px 1px 3px 1px rgba(0, 0, 0, 0.15);\n",
              "      filter: drop-shadow(0px 1px 2px rgba(0, 0, 0, 0.3));\n",
              "      fill: #FFFFFF;\n",
              "    }\n",
              "  </style>\n",
              "\n",
              "      <script>\n",
              "        const buttonEl =\n",
              "          document.querySelector('#df-7643741d-63b3-4fc6-afac-96cf24c7fa03 button.colab-df-convert');\n",
              "        buttonEl.style.display =\n",
              "          google.colab.kernel.accessAllowed ? 'block' : 'none';\n",
              "\n",
              "        async function convertToInteractive(key) {\n",
              "          const element = document.querySelector('#df-7643741d-63b3-4fc6-afac-96cf24c7fa03');\n",
              "          const dataTable =\n",
              "            await google.colab.kernel.invokeFunction('convertToInteractive',\n",
              "                                                     [key], {});\n",
              "          if (!dataTable) return;\n",
              "\n",
              "          const docLinkHtml = 'Like what you see? Visit the ' +\n",
              "            '<a target=\"_blank\" href=https://colab.research.google.com/notebooks/data_table.ipynb>data table notebook</a>'\n",
              "            + ' to learn more about interactive tables.';\n",
              "          element.innerHTML = '';\n",
              "          dataTable['output_type'] = 'display_data';\n",
              "          await google.colab.output.renderOutput(dataTable, element);\n",
              "          const docLink = document.createElement('div');\n",
              "          docLink.innerHTML = docLinkHtml;\n",
              "          element.appendChild(docLink);\n",
              "        }\n",
              "      </script>\n",
              "    </div>\n",
              "  </div>\n",
              "  "
            ]
          },
          "metadata": {},
          "execution_count": 6
        }
      ]
    },
    {
      "cell_type": "code",
      "source": [
        "#For traing the LSTM we will use class code.\n",
        "\n",
        "n_tr, n_val = int(0.5885*len(DatLSTM)), int(0.2358*len(DatLSTM)) # Here traning set, val and test must be assiged to math with a 54 multiple\n",
        "n_te = len(DatLSTM) - n_tr - n_val\n",
        "print('Samples for training: %d; validation: %d; test: %d' % (n_tr, n_val, n_te))"
      ],
      "metadata": {
        "colab": {
          "base_uri": "https://localhost:8080/"
        },
        "id": "y1NVm5s1u1Zr",
        "outputId": "4652ca46-e19b-4485-f0e5-6e2f55fb5b5d"
      },
      "execution_count": null,
      "outputs": [
        {
          "output_type": "stream",
          "name": "stdout",
          "text": [
            "Samples for training: 1080; validation: 432; test: 324\n"
          ]
        }
      ]
    },
    {
      "cell_type": "markdown",
      "source": [
        "We use 20 participants data for training the LSTM, and 8 participants for validation and finally 6 participant data for validation."
      ],
      "metadata": {
        "id": "OVeqgPDc4UOL"
      }
    },
    {
      "cell_type": "code",
      "source": [
        "# Get the data from the dataframe (dropping date column)\n",
        "data = D_Lstm2.iloc[:, 1:-1].values\n",
        "print(data.shape)\n",
        "# We need to normalise our time series. Calculate mean and std from TRAINING DATA ONLY. \n",
        "# We'll use it on the validation and test sets.\n",
        "#data[:n_tr, :-1]\n",
        "mean_tr = data[:n_tr, :].mean(axis=0)\n",
        "std_tr = data[:n_tr, :].std(axis=0)\n",
        "data[:, :] = (data[:, :] - mean_tr) / std_tr\n",
        "\n",
        "\n",
        "y = D_Lstm2['Label'].values.reshape(-1, 1)"
      ],
      "metadata": {
        "colab": {
          "base_uri": "https://localhost:8080/"
        },
        "id": "gBnYkNM3vMI7",
        "outputId": "a70087d5-3df4-4a32-e599-bbc551c2588b"
      },
      "execution_count": null,
      "outputs": [
        {
          "output_type": "stream",
          "name": "stdout",
          "text": [
            "(1836, 3)\n"
          ]
        }
      ]
    },
    {
      "cell_type": "code",
      "source": [
        "data #verifing the normalization"
      ],
      "metadata": {
        "colab": {
          "base_uri": "https://localhost:8080/"
        },
        "id": "1H7mn2zqhpQk",
        "outputId": "eda6743c-998d-411e-fe5c-0473abcfa86e"
      },
      "execution_count": null,
      "outputs": [
        {
          "output_type": "execute_result",
          "data": {
            "text/plain": [
              "array([[-0.76263195, -0.6829113 ,  1.88906902],\n",
              "       [ 0.09211002, -0.66216974,  1.92301961],\n",
              "       [ 0.38402952, -0.64637325,  1.96700777],\n",
              "       ...,\n",
              "       [ 0.54982361,  0.24097864,  0.28113947],\n",
              "       [ 0.57795948,  0.3190474 ,  0.3130235 ],\n",
              "       [ 0.02199364,  0.36974901,  0.33708414]])"
            ]
          },
          "metadata": {},
          "execution_count": 6
        }
      ]
    },
    {
      "cell_type": "code",
      "source": [
        "# We'll use a Dataset from keras to pass our data\n",
        "sampling_rate = 1  # we keep all data points\n",
        "sequence_length = 5  # 2.5 min to predict stress or not\n",
        "delay = sampling_rate * sequence_length  # the target is the next step after the end of the sequence\n",
        "batch_size = 54 "
      ],
      "metadata": {
        "id": "y0Gi3sxhMh-r"
      },
      "execution_count": null,
      "outputs": []
    },
    {
      "cell_type": "code",
      "source": [
        "train_dataset = keras.utils.timeseries_dataset_from_array(\n",
        "    data[:-delay],\n",
        "    targets=y[delay:],\n",
        "    sampling_rate=sampling_rate, sequence_length=sequence_length,\n",
        "    batch_size=batch_size,\n",
        "    start_index=0, end_index=n_tr  \n",
        "    )\n",
        "\n",
        "val_dataset = keras.utils.timeseries_dataset_from_array(\n",
        "    data[:-delay],\n",
        "    targets=y[delay:],\n",
        "    sampling_rate=sampling_rate, sequence_length=sequence_length,\n",
        "    batch_size=batch_size,\n",
        "    start_index=n_tr, end_index=n_tr+n_val  \n",
        "    )\n",
        "\n",
        "test_dataset = keras.utils.timeseries_dataset_from_array(\n",
        "    data[:-delay],\n",
        "    targets=y[delay:],\n",
        "    sampling_rate=sampling_rate, sequence_length=sequence_length,\n",
        "    batch_size=batch_size,\n",
        "    start_index=n_tr+n_val  \n",
        "    )\n",
        "\n",
        "for X, target in train_dataset:\n",
        "    print(\"X shape:\", X.shape)\n",
        "    print(\"target shape:\", target.shape)\n",
        "    break  # so we only print once"
      ],
      "metadata": {
        "colab": {
          "base_uri": "https://localhost:8080/"
        },
        "id": "lBT108SSMptD",
        "outputId": "d43e20dd-8852-470d-d9aa-b1e6822b588c"
      },
      "execution_count": null,
      "outputs": [
        {
          "output_type": "stream",
          "name": "stdout",
          "text": [
            "X shape: (54, 5, 3)\n",
            "target shape: (54, 1)\n"
          ]
        }
      ]
    },
    {
      "cell_type": "code",
      "source": [
        "#Here is time to define the model\n",
        "model_lstm3 = models.Sequential()\n",
        "model_lstm3.add(layers.LSTM(40, input_shape=(sequence_length, len(D_Lstm2.columns)-2)))\n",
        "model_lstm3.add(layers.Dense(1))\n",
        "\n",
        "model_lstm3.summary()"
      ],
      "metadata": {
        "colab": {
          "base_uri": "https://localhost:8080/"
        },
        "id": "-TSHhpujM0vy",
        "outputId": "612560e2-5bb7-4448-e3a2-21e9e9a2d824"
      },
      "execution_count": null,
      "outputs": [
        {
          "output_type": "stream",
          "name": "stdout",
          "text": [
            "Model: \"sequential_2\"\n",
            "_________________________________________________________________\n",
            " Layer (type)                Output Shape              Param #   \n",
            "=================================================================\n",
            " lstm_1 (LSTM)               (None, 40)                7040      \n",
            "                                                                 \n",
            " dense_1 (Dense)             (None, 1)                 41        \n",
            "                                                                 \n",
            "=================================================================\n",
            "Total params: 7,081\n",
            "Trainable params: 7,081\n",
            "Non-trainable params: 0\n",
            "_________________________________________________________________\n"
          ]
        }
      ]
    },
    {
      "cell_type": "code",
      "source": [
        "n_epochs = 40"
      ],
      "metadata": {
        "id": "EuGJkphzNXG2"
      },
      "execution_count": null,
      "outputs": []
    },
    {
      "cell_type": "code",
      "source": [
        "model_lstm3.compile(optimizer='rmsprop', loss='mse', metrics=['mae'])\n",
        "history_lstm3 = model_lstm3.fit(train_dataset, epochs=n_epochs, validation_data=val_dataset)"
      ],
      "metadata": {
        "colab": {
          "base_uri": "https://localhost:8080/"
        },
        "id": "VZ3fZt6IUddm",
        "outputId": "ebbe33d9-48cd-45c0-98d7-0716afdd80c9"
      },
      "execution_count": null,
      "outputs": [
        {
          "output_type": "stream",
          "name": "stdout",
          "text": [
            "Epoch 1/40\n",
            "20/20 [==============================] - 3s 45ms/step - loss: 1.2427 - mae: 0.9806 - val_loss: 1.3757 - val_mae: 1.0393\n",
            "Epoch 2/40\n",
            "20/20 [==============================] - 0s 19ms/step - loss: 1.2207 - mae: 0.9728 - val_loss: 1.3792 - val_mae: 1.0402\n",
            "Epoch 3/40\n",
            "20/20 [==============================] - 0s 19ms/step - loss: 1.2170 - mae: 0.9702 - val_loss: 1.3808 - val_mae: 1.0405\n",
            "Epoch 4/40\n",
            "20/20 [==============================] - 0s 20ms/step - loss: 1.2133 - mae: 0.9677 - val_loss: 1.3823 - val_mae: 1.0408\n",
            "Epoch 5/40\n",
            "20/20 [==============================] - 0s 19ms/step - loss: 1.2097 - mae: 0.9653 - val_loss: 1.3840 - val_mae: 1.0410\n",
            "Epoch 6/40\n",
            "20/20 [==============================] - 0s 24ms/step - loss: 1.2060 - mae: 0.9629 - val_loss: 1.3859 - val_mae: 1.0412\n",
            "Epoch 7/40\n",
            "20/20 [==============================] - 0s 20ms/step - loss: 1.2023 - mae: 0.9607 - val_loss: 1.3878 - val_mae: 1.0414\n",
            "Epoch 8/40\n",
            "20/20 [==============================] - 0s 20ms/step - loss: 1.1987 - mae: 0.9584 - val_loss: 1.3899 - val_mae: 1.0416\n",
            "Epoch 9/40\n",
            "20/20 [==============================] - 0s 24ms/step - loss: 1.1950 - mae: 0.9563 - val_loss: 1.3921 - val_mae: 1.0418\n",
            "Epoch 10/40\n",
            "20/20 [==============================] - 0s 18ms/step - loss: 1.1914 - mae: 0.9541 - val_loss: 1.3943 - val_mae: 1.0419\n",
            "Epoch 11/40\n",
            "20/20 [==============================] - 1s 29ms/step - loss: 1.1878 - mae: 0.9521 - val_loss: 1.3966 - val_mae: 1.0421\n",
            "Epoch 12/40\n",
            "20/20 [==============================] - 1s 31ms/step - loss: 1.1843 - mae: 0.9501 - val_loss: 1.3990 - val_mae: 1.0422\n",
            "Epoch 13/40\n",
            "20/20 [==============================] - 1s 31ms/step - loss: 1.1807 - mae: 0.9481 - val_loss: 1.4014 - val_mae: 1.0423\n",
            "Epoch 14/40\n",
            "20/20 [==============================] - 1s 37ms/step - loss: 1.1772 - mae: 0.9463 - val_loss: 1.4038 - val_mae: 1.0424\n",
            "Epoch 15/40\n",
            "20/20 [==============================] - 0s 23ms/step - loss: 1.1737 - mae: 0.9445 - val_loss: 1.4062 - val_mae: 1.0425\n",
            "Epoch 16/40\n",
            "20/20 [==============================] - 0s 20ms/step - loss: 1.1702 - mae: 0.9426 - val_loss: 1.4086 - val_mae: 1.0425\n",
            "Epoch 17/40\n",
            "20/20 [==============================] - 0s 21ms/step - loss: 1.1668 - mae: 0.9407 - val_loss: 1.4110 - val_mae: 1.0424\n",
            "Epoch 18/40\n",
            "20/20 [==============================] - 0s 19ms/step - loss: 1.1633 - mae: 0.9389 - val_loss: 1.4134 - val_mae: 1.0424\n",
            "Epoch 19/40\n",
            "20/20 [==============================] - 0s 21ms/step - loss: 1.1599 - mae: 0.9371 - val_loss: 1.4158 - val_mae: 1.0423\n",
            "Epoch 20/40\n",
            "20/20 [==============================] - 0s 22ms/step - loss: 1.1565 - mae: 0.9352 - val_loss: 1.4182 - val_mae: 1.0422\n",
            "Epoch 21/40\n",
            "20/20 [==============================] - 0s 24ms/step - loss: 1.1530 - mae: 0.9334 - val_loss: 1.4205 - val_mae: 1.0421\n",
            "Epoch 22/40\n",
            "20/20 [==============================] - 0s 20ms/step - loss: 1.1496 - mae: 0.9316 - val_loss: 1.4229 - val_mae: 1.0420\n",
            "Epoch 23/40\n",
            "20/20 [==============================] - 0s 18ms/step - loss: 1.1462 - mae: 0.9299 - val_loss: 1.4253 - val_mae: 1.0418\n",
            "Epoch 24/40\n",
            "20/20 [==============================] - 0s 20ms/step - loss: 1.1427 - mae: 0.9281 - val_loss: 1.4276 - val_mae: 1.0416\n",
            "Epoch 25/40\n",
            "20/20 [==============================] - 0s 21ms/step - loss: 1.1393 - mae: 0.9263 - val_loss: 1.4300 - val_mae: 1.0414\n",
            "Epoch 26/40\n",
            "20/20 [==============================] - 0s 22ms/step - loss: 1.1358 - mae: 0.9244 - val_loss: 1.4325 - val_mae: 1.0412\n",
            "Epoch 27/40\n",
            "20/20 [==============================] - 0s 23ms/step - loss: 1.1323 - mae: 0.9226 - val_loss: 1.4349 - val_mae: 1.0410\n",
            "Epoch 28/40\n",
            "20/20 [==============================] - 0s 20ms/step - loss: 1.1288 - mae: 0.9207 - val_loss: 1.4375 - val_mae: 1.0408\n",
            "Epoch 29/40\n",
            "20/20 [==============================] - 1s 41ms/step - loss: 1.1253 - mae: 0.9188 - val_loss: 1.4400 - val_mae: 1.0406\n",
            "Epoch 30/40\n",
            "20/20 [==============================] - 1s 76ms/step - loss: 1.1218 - mae: 0.9169 - val_loss: 1.4427 - val_mae: 1.0404\n",
            "Epoch 31/40\n",
            "20/20 [==============================] - 1s 31ms/step - loss: 1.1182 - mae: 0.9150 - val_loss: 1.4454 - val_mae: 1.0402\n",
            "Epoch 32/40\n",
            "20/20 [==============================] - 0s 21ms/step - loss: 1.1146 - mae: 0.9131 - val_loss: 1.4483 - val_mae: 1.0401\n",
            "Epoch 33/40\n",
            "20/20 [==============================] - 0s 21ms/step - loss: 1.1110 - mae: 0.9112 - val_loss: 1.4512 - val_mae: 1.0399\n",
            "Epoch 34/40\n",
            "20/20 [==============================] - 0s 23ms/step - loss: 1.1074 - mae: 0.9092 - val_loss: 1.4543 - val_mae: 1.0398\n",
            "Epoch 35/40\n",
            "20/20 [==============================] - 0s 23ms/step - loss: 1.1037 - mae: 0.9073 - val_loss: 1.4575 - val_mae: 1.0397\n",
            "Epoch 36/40\n",
            "20/20 [==============================] - 0s 25ms/step - loss: 1.1000 - mae: 0.9052 - val_loss: 1.4608 - val_mae: 1.0396\n",
            "Epoch 37/40\n",
            "20/20 [==============================] - 1s 25ms/step - loss: 1.0962 - mae: 0.9032 - val_loss: 1.4643 - val_mae: 1.0396\n",
            "Epoch 38/40\n",
            "20/20 [==============================] - 1s 25ms/step - loss: 1.0924 - mae: 0.9011 - val_loss: 1.4680 - val_mae: 1.0396\n",
            "Epoch 39/40\n",
            "20/20 [==============================] - 0s 21ms/step - loss: 1.0886 - mae: 0.8990 - val_loss: 1.4719 - val_mae: 1.0396\n",
            "Epoch 40/40\n",
            "20/20 [==============================] - 0s 20ms/step - loss: 1.0847 - mae: 0.8969 - val_loss: 1.4760 - val_mae: 1.0398\n"
          ]
        }
      ]
    },
    {
      "cell_type": "code",
      "source": [
        "#Store predicted results in results3\n",
        "results3 = model_lstm3.predict(test_dataset) #40 cells"
      ],
      "metadata": {
        "colab": {
          "base_uri": "https://localhost:8080/"
        },
        "id": "byk9wU84VBax",
        "outputId": "11326bda-72ac-42fd-aaa8-54e3323df0f9"
      },
      "execution_count": null,
      "outputs": [
        {
          "output_type": "stream",
          "name": "stdout",
          "text": [
            "6/6 [==============================] - 1s 10ms/step\n"
          ]
        }
      ]
    },
    {
      "cell_type": "code",
      "source": [
        "#A model with less cells, just 20\n",
        "model_lstm2 = models.Sequential()\n",
        "model_lstm2.add(layers.LSTM(20, input_shape=(sequence_length, len(D_Lstm2.columns)-2)))\n",
        "model_lstm2.add(layers.Dense(1))\n",
        "model_lstm2.summary()"
      ],
      "metadata": {
        "colab": {
          "base_uri": "https://localhost:8080/"
        },
        "id": "th85A2G1fiHr",
        "outputId": "9f1d9c4d-711a-4426-d70b-055800784bff"
      },
      "execution_count": null,
      "outputs": [
        {
          "output_type": "stream",
          "name": "stdout",
          "text": [
            "Model: \"sequential_3\"\n",
            "_________________________________________________________________\n",
            " Layer (type)                Output Shape              Param #   \n",
            "=================================================================\n",
            " lstm_2 (LSTM)               (None, 20)                1920      \n",
            "                                                                 \n",
            " dense_2 (Dense)             (None, 1)                 21        \n",
            "                                                                 \n",
            "=================================================================\n",
            "Total params: 1,941\n",
            "Trainable params: 1,941\n",
            "Non-trainable params: 0\n",
            "_________________________________________________________________\n"
          ]
        }
      ]
    },
    {
      "cell_type": "code",
      "source": [
        "model_lstm2.compile(optimizer='rmsprop', loss='mse', metrics=['mae'])\n",
        "history_lstm2 = model_lstm2.fit(train_dataset, epochs=n_epochs, validation_data=val_dataset)"
      ],
      "metadata": {
        "colab": {
          "base_uri": "https://localhost:8080/"
        },
        "id": "jQNf2nbcftk-",
        "outputId": "a6134d11-d9e3-4550-de81-d9442f807d72"
      },
      "execution_count": null,
      "outputs": [
        {
          "output_type": "stream",
          "name": "stdout",
          "text": [
            "Epoch 1/40\n",
            "20/20 [==============================] - 3s 55ms/step - loss: 1.2424 - mae: 0.9856 - val_loss: 1.3331 - val_mae: 1.0306\n",
            "Epoch 2/40\n",
            "20/20 [==============================] - 1s 30ms/step - loss: 1.2285 - mae: 0.9807 - val_loss: 1.3322 - val_mae: 1.0294\n",
            "Epoch 3/40\n",
            "20/20 [==============================] - 1s 30ms/step - loss: 1.2259 - mae: 0.9790 - val_loss: 1.3318 - val_mae: 1.0287\n",
            "Epoch 4/40\n",
            "20/20 [==============================] - 0s 23ms/step - loss: 1.2233 - mae: 0.9774 - val_loss: 1.3317 - val_mae: 1.0279\n",
            "Epoch 5/40\n",
            "20/20 [==============================] - 1s 38ms/step - loss: 1.2209 - mae: 0.9759 - val_loss: 1.3315 - val_mae: 1.0272\n",
            "Epoch 6/40\n",
            "20/20 [==============================] - 0s 19ms/step - loss: 1.2184 - mae: 0.9744 - val_loss: 1.3315 - val_mae: 1.0265\n",
            "Epoch 7/40\n",
            "20/20 [==============================] - 0s 18ms/step - loss: 1.2160 - mae: 0.9730 - val_loss: 1.3314 - val_mae: 1.0258\n",
            "Epoch 8/40\n",
            "20/20 [==============================] - 0s 22ms/step - loss: 1.2135 - mae: 0.9715 - val_loss: 1.3314 - val_mae: 1.0251\n",
            "Epoch 9/40\n",
            "20/20 [==============================] - 0s 20ms/step - loss: 1.2111 - mae: 0.9701 - val_loss: 1.3314 - val_mae: 1.0244\n",
            "Epoch 10/40\n",
            "20/20 [==============================] - 0s 20ms/step - loss: 1.2087 - mae: 0.9687 - val_loss: 1.3314 - val_mae: 1.0237\n",
            "Epoch 11/40\n",
            "20/20 [==============================] - 0s 22ms/step - loss: 1.2063 - mae: 0.9672 - val_loss: 1.3314 - val_mae: 1.0230\n",
            "Epoch 12/40\n",
            "20/20 [==============================] - 0s 22ms/step - loss: 1.2039 - mae: 0.9659 - val_loss: 1.3315 - val_mae: 1.0223\n",
            "Epoch 13/40\n",
            "20/20 [==============================] - 0s 20ms/step - loss: 1.2016 - mae: 0.9645 - val_loss: 1.3317 - val_mae: 1.0216\n",
            "Epoch 14/40\n",
            "20/20 [==============================] - 0s 22ms/step - loss: 1.1992 - mae: 0.9631 - val_loss: 1.3319 - val_mae: 1.0209\n",
            "Epoch 15/40\n",
            "20/20 [==============================] - 1s 26ms/step - loss: 1.1968 - mae: 0.9617 - val_loss: 1.3321 - val_mae: 1.0202\n",
            "Epoch 16/40\n",
            "20/20 [==============================] - 0s 20ms/step - loss: 1.1944 - mae: 0.9603 - val_loss: 1.3324 - val_mae: 1.0195\n",
            "Epoch 17/40\n",
            "20/20 [==============================] - 0s 22ms/step - loss: 1.1921 - mae: 0.9589 - val_loss: 1.3327 - val_mae: 1.0189\n",
            "Epoch 18/40\n",
            "20/20 [==============================] - 1s 26ms/step - loss: 1.1897 - mae: 0.9575 - val_loss: 1.3332 - val_mae: 1.0184\n",
            "Epoch 19/40\n",
            "20/20 [==============================] - 0s 20ms/step - loss: 1.1873 - mae: 0.9561 - val_loss: 1.3336 - val_mae: 1.0179\n",
            "Epoch 20/40\n",
            "20/20 [==============================] - 1s 30ms/step - loss: 1.1850 - mae: 0.9547 - val_loss: 1.3342 - val_mae: 1.0177\n",
            "Epoch 21/40\n",
            "20/20 [==============================] - 1s 45ms/step - loss: 1.1826 - mae: 0.9533 - val_loss: 1.3348 - val_mae: 1.0175\n",
            "Epoch 22/40\n",
            "20/20 [==============================] - 1s 48ms/step - loss: 1.1802 - mae: 0.9519 - val_loss: 1.3355 - val_mae: 1.0173\n",
            "Epoch 23/40\n",
            "20/20 [==============================] - 1s 38ms/step - loss: 1.1778 - mae: 0.9505 - val_loss: 1.3362 - val_mae: 1.0171\n",
            "Epoch 24/40\n",
            "20/20 [==============================] - 1s 35ms/step - loss: 1.1755 - mae: 0.9491 - val_loss: 1.3370 - val_mae: 1.0169\n",
            "Epoch 25/40\n",
            "20/20 [==============================] - 0s 24ms/step - loss: 1.1731 - mae: 0.9477 - val_loss: 1.3379 - val_mae: 1.0168\n",
            "Epoch 26/40\n",
            "20/20 [==============================] - 1s 31ms/step - loss: 1.1707 - mae: 0.9463 - val_loss: 1.3389 - val_mae: 1.0167\n",
            "Epoch 27/40\n",
            "20/20 [==============================] - 1s 29ms/step - loss: 1.1683 - mae: 0.9449 - val_loss: 1.3399 - val_mae: 1.0166\n",
            "Epoch 28/40\n",
            "20/20 [==============================] - 0s 24ms/step - loss: 1.1660 - mae: 0.9435 - val_loss: 1.3410 - val_mae: 1.0166\n",
            "Epoch 29/40\n",
            "20/20 [==============================] - 0s 21ms/step - loss: 1.1636 - mae: 0.9422 - val_loss: 1.3422 - val_mae: 1.0165\n",
            "Epoch 30/40\n",
            "20/20 [==============================] - 0s 18ms/step - loss: 1.1612 - mae: 0.9409 - val_loss: 1.3434 - val_mae: 1.0165\n",
            "Epoch 31/40\n",
            "20/20 [==============================] - 0s 18ms/step - loss: 1.1588 - mae: 0.9396 - val_loss: 1.3447 - val_mae: 1.0165\n",
            "Epoch 32/40\n",
            "20/20 [==============================] - 0s 21ms/step - loss: 1.1564 - mae: 0.9383 - val_loss: 1.3461 - val_mae: 1.0165\n",
            "Epoch 33/40\n",
            "20/20 [==============================] - 0s 20ms/step - loss: 1.1540 - mae: 0.9370 - val_loss: 1.3475 - val_mae: 1.0165\n",
            "Epoch 34/40\n",
            "20/20 [==============================] - 0s 18ms/step - loss: 1.1516 - mae: 0.9357 - val_loss: 1.3490 - val_mae: 1.0166\n",
            "Epoch 35/40\n",
            "20/20 [==============================] - 0s 19ms/step - loss: 1.1492 - mae: 0.9344 - val_loss: 1.3506 - val_mae: 1.0167\n",
            "Epoch 36/40\n",
            "20/20 [==============================] - 0s 21ms/step - loss: 1.1468 - mae: 0.9331 - val_loss: 1.3522 - val_mae: 1.0167\n",
            "Epoch 37/40\n",
            "20/20 [==============================] - 0s 19ms/step - loss: 1.1444 - mae: 0.9318 - val_loss: 1.3538 - val_mae: 1.0168\n",
            "Epoch 38/40\n",
            "20/20 [==============================] - 0s 20ms/step - loss: 1.1420 - mae: 0.9305 - val_loss: 1.3555 - val_mae: 1.0169\n",
            "Epoch 39/40\n",
            "20/20 [==============================] - 0s 20ms/step - loss: 1.1396 - mae: 0.9292 - val_loss: 1.3573 - val_mae: 1.0171\n",
            "Epoch 40/40\n",
            "20/20 [==============================] - 1s 27ms/step - loss: 1.1372 - mae: 0.9278 - val_loss: 1.3591 - val_mae: 1.0172\n"
          ]
        }
      ]
    },
    {
      "cell_type": "code",
      "source": [
        "#Storaging predicted data for second LSTM \n",
        "results2 = model_lstm2.predict(test_dataset) #LSTM 20Cells"
      ],
      "metadata": {
        "colab": {
          "base_uri": "https://localhost:8080/"
        },
        "id": "N_ZwvCwQVoEJ",
        "outputId": "2e8e76a1-4ae6-4558-cca4-db8f7342a1db"
      },
      "execution_count": null,
      "outputs": [
        {
          "output_type": "stream",
          "name": "stdout",
          "text": [
            "6/6 [==============================] - 1s 14ms/step\n"
          ]
        }
      ]
    },
    {
      "cell_type": "markdown",
      "source": [
        "**Using HR and T**"
      ],
      "metadata": {
        "id": "zGmd7WPThRqR"
      }
    },
    {
      "cell_type": "markdown",
      "source": [
        "As we see in the previous analysis T is not a variable that had a low correlation, therefore we train a new model without T.\n"
      ],
      "metadata": {
        "id": "H1s9cbwj6AtQ"
      }
    },
    {
      "cell_type": "code",
      "source": [
        "DatLSTM = pd.read_excel('DataLSTM_levels.xlsx')\n",
        "DatLSTM = DatLSTM.dropna()\n",
        "D_Lstm3 = DatLSTM.copy()\n",
        "D_Lstm3 = D_Lstm3.drop(['Participant','stress','Temp'], axis = 1)\n",
        "#invoices.drop(['client'], axis=1)\n",
        "D_Lstm3.head()"
      ],
      "metadata": {
        "colab": {
          "base_uri": "https://localhost:8080/",
          "height": 206
        },
        "id": "ErfFqPXphQh-",
        "outputId": "da6266a6-a12d-48b5-cd27-d926f1a315d8"
      },
      "execution_count": null,
      "outputs": [
        {
          "output_type": "execute_result",
          "data": {
            "text/plain": [
              "   Unnamed: 0         HR       EDA  Label\n",
              "0         5.0  72.987667  0.191197    0.0\n",
              "1         6.0  83.833000  0.222997    0.0\n",
              "2         7.0  87.537000  0.247216    0.0\n",
              "3         8.0  84.711667  0.262016    0.0\n",
              "4         9.0  92.909333  0.265123    0.0"
            ],
            "text/html": [
              "\n",
              "  <div id=\"df-7fe48483-4486-4790-b95d-49317c4ca6c6\">\n",
              "    <div class=\"colab-df-container\">\n",
              "      <div>\n",
              "<style scoped>\n",
              "    .dataframe tbody tr th:only-of-type {\n",
              "        vertical-align: middle;\n",
              "    }\n",
              "\n",
              "    .dataframe tbody tr th {\n",
              "        vertical-align: top;\n",
              "    }\n",
              "\n",
              "    .dataframe thead th {\n",
              "        text-align: right;\n",
              "    }\n",
              "</style>\n",
              "<table border=\"1\" class=\"dataframe\">\n",
              "  <thead>\n",
              "    <tr style=\"text-align: right;\">\n",
              "      <th></th>\n",
              "      <th>Unnamed: 0</th>\n",
              "      <th>HR</th>\n",
              "      <th>EDA</th>\n",
              "      <th>Label</th>\n",
              "    </tr>\n",
              "  </thead>\n",
              "  <tbody>\n",
              "    <tr>\n",
              "      <th>0</th>\n",
              "      <td>5.0</td>\n",
              "      <td>72.987667</td>\n",
              "      <td>0.191197</td>\n",
              "      <td>0.0</td>\n",
              "    </tr>\n",
              "    <tr>\n",
              "      <th>1</th>\n",
              "      <td>6.0</td>\n",
              "      <td>83.833000</td>\n",
              "      <td>0.222997</td>\n",
              "      <td>0.0</td>\n",
              "    </tr>\n",
              "    <tr>\n",
              "      <th>2</th>\n",
              "      <td>7.0</td>\n",
              "      <td>87.537000</td>\n",
              "      <td>0.247216</td>\n",
              "      <td>0.0</td>\n",
              "    </tr>\n",
              "    <tr>\n",
              "      <th>3</th>\n",
              "      <td>8.0</td>\n",
              "      <td>84.711667</td>\n",
              "      <td>0.262016</td>\n",
              "      <td>0.0</td>\n",
              "    </tr>\n",
              "    <tr>\n",
              "      <th>4</th>\n",
              "      <td>9.0</td>\n",
              "      <td>92.909333</td>\n",
              "      <td>0.265123</td>\n",
              "      <td>0.0</td>\n",
              "    </tr>\n",
              "  </tbody>\n",
              "</table>\n",
              "</div>\n",
              "      <button class=\"colab-df-convert\" onclick=\"convertToInteractive('df-7fe48483-4486-4790-b95d-49317c4ca6c6')\"\n",
              "              title=\"Convert this dataframe to an interactive table.\"\n",
              "              style=\"display:none;\">\n",
              "        \n",
              "  <svg xmlns=\"http://www.w3.org/2000/svg\" height=\"24px\"viewBox=\"0 0 24 24\"\n",
              "       width=\"24px\">\n",
              "    <path d=\"M0 0h24v24H0V0z\" fill=\"none\"/>\n",
              "    <path d=\"M18.56 5.44l.94 2.06.94-2.06 2.06-.94-2.06-.94-.94-2.06-.94 2.06-2.06.94zm-11 1L8.5 8.5l.94-2.06 2.06-.94-2.06-.94L8.5 2.5l-.94 2.06-2.06.94zm10 10l.94 2.06.94-2.06 2.06-.94-2.06-.94-.94-2.06-.94 2.06-2.06.94z\"/><path d=\"M17.41 7.96l-1.37-1.37c-.4-.4-.92-.59-1.43-.59-.52 0-1.04.2-1.43.59L10.3 9.45l-7.72 7.72c-.78.78-.78 2.05 0 2.83L4 21.41c.39.39.9.59 1.41.59.51 0 1.02-.2 1.41-.59l7.78-7.78 2.81-2.81c.8-.78.8-2.07 0-2.86zM5.41 20L4 18.59l7.72-7.72 1.47 1.35L5.41 20z\"/>\n",
              "  </svg>\n",
              "      </button>\n",
              "      \n",
              "  <style>\n",
              "    .colab-df-container {\n",
              "      display:flex;\n",
              "      flex-wrap:wrap;\n",
              "      gap: 12px;\n",
              "    }\n",
              "\n",
              "    .colab-df-convert {\n",
              "      background-color: #E8F0FE;\n",
              "      border: none;\n",
              "      border-radius: 50%;\n",
              "      cursor: pointer;\n",
              "      display: none;\n",
              "      fill: #1967D2;\n",
              "      height: 32px;\n",
              "      padding: 0 0 0 0;\n",
              "      width: 32px;\n",
              "    }\n",
              "\n",
              "    .colab-df-convert:hover {\n",
              "      background-color: #E2EBFA;\n",
              "      box-shadow: 0px 1px 2px rgba(60, 64, 67, 0.3), 0px 1px 3px 1px rgba(60, 64, 67, 0.15);\n",
              "      fill: #174EA6;\n",
              "    }\n",
              "\n",
              "    [theme=dark] .colab-df-convert {\n",
              "      background-color: #3B4455;\n",
              "      fill: #D2E3FC;\n",
              "    }\n",
              "\n",
              "    [theme=dark] .colab-df-convert:hover {\n",
              "      background-color: #434B5C;\n",
              "      box-shadow: 0px 1px 3px 1px rgba(0, 0, 0, 0.15);\n",
              "      filter: drop-shadow(0px 1px 2px rgba(0, 0, 0, 0.3));\n",
              "      fill: #FFFFFF;\n",
              "    }\n",
              "  </style>\n",
              "\n",
              "      <script>\n",
              "        const buttonEl =\n",
              "          document.querySelector('#df-7fe48483-4486-4790-b95d-49317c4ca6c6 button.colab-df-convert');\n",
              "        buttonEl.style.display =\n",
              "          google.colab.kernel.accessAllowed ? 'block' : 'none';\n",
              "\n",
              "        async function convertToInteractive(key) {\n",
              "          const element = document.querySelector('#df-7fe48483-4486-4790-b95d-49317c4ca6c6');\n",
              "          const dataTable =\n",
              "            await google.colab.kernel.invokeFunction('convertToInteractive',\n",
              "                                                     [key], {});\n",
              "          if (!dataTable) return;\n",
              "\n",
              "          const docLinkHtml = 'Like what you see? Visit the ' +\n",
              "            '<a target=\"_blank\" href=https://colab.research.google.com/notebooks/data_table.ipynb>data table notebook</a>'\n",
              "            + ' to learn more about interactive tables.';\n",
              "          element.innerHTML = '';\n",
              "          dataTable['output_type'] = 'display_data';\n",
              "          await google.colab.output.renderOutput(dataTable, element);\n",
              "          const docLink = document.createElement('div');\n",
              "          docLink.innerHTML = docLinkHtml;\n",
              "          element.appendChild(docLink);\n",
              "        }\n",
              "      </script>\n",
              "    </div>\n",
              "  </div>\n",
              "  "
            ]
          },
          "metadata": {},
          "execution_count": 29
        }
      ]
    },
    {
      "cell_type": "code",
      "source": [
        "# Get the data from the dataframe (dropping date column)\n",
        "data = D_Lstm3.iloc[:, 1:-1].values\n",
        "print(data.shape)\n",
        "\n",
        "# We'll use it on the validation and test sets.\n",
        "#data[:n_tr, :-1]\n",
        "mean_tr = data[:n_tr, :].mean(axis=0)\n",
        "std_tr = data[:n_tr, :].std(axis=0)\n",
        "data[:, :] = (data[:, :] - mean_tr) / std_tr\n",
        "\n",
        "y = D_Lstm3['Label'].values.reshape(-1, 1)\n"
      ],
      "metadata": {
        "colab": {
          "base_uri": "https://localhost:8080/"
        },
        "id": "SgdANtzbhrje",
        "outputId": "4b13a135-c7a4-41f4-bbc5-c04983a65a33"
      },
      "execution_count": null,
      "outputs": [
        {
          "output_type": "stream",
          "name": "stdout",
          "text": [
            "(1836, 2)\n"
          ]
        }
      ]
    },
    {
      "cell_type": "code",
      "source": [
        "model_lstm4 = models.Sequential()\n",
        "model_lstm4.add(layers.LSTM(40, input_shape=(sequence_length, len(D_Lstm3.columns)-1)))\n",
        "model_lstm4.add(layers.Dense(1))\n",
        "\n",
        "model_lstm4.summary()"
      ],
      "metadata": {
        "colab": {
          "base_uri": "https://localhost:8080/"
        },
        "id": "GLbGfRBhiAVK",
        "outputId": "94d83824-1cf8-4ca4-9927-7ea429af7d92"
      },
      "execution_count": null,
      "outputs": [
        {
          "output_type": "stream",
          "name": "stdout",
          "text": [
            "Model: \"sequential_5\"\n",
            "_________________________________________________________________\n",
            " Layer (type)                Output Shape              Param #   \n",
            "=================================================================\n",
            " lstm_4 (LSTM)               (None, 40)                7040      \n",
            "                                                                 \n",
            " dense_4 (Dense)             (None, 1)                 41        \n",
            "                                                                 \n",
            "=================================================================\n",
            "Total params: 7,081\n",
            "Trainable params: 7,081\n",
            "Non-trainable params: 0\n",
            "_________________________________________________________________\n"
          ]
        }
      ]
    },
    {
      "cell_type": "code",
      "source": [
        "model_lstm4.compile(optimizer='rmsprop', loss='mse', metrics=['mae'])\n",
        "history_lstm4 = model_lstm4.fit(train_dataset, epochs=n_epochs, validation_data=val_dataset)"
      ],
      "metadata": {
        "colab": {
          "base_uri": "https://localhost:8080/"
        },
        "id": "BOuCDqJpiV7e",
        "outputId": "e01d08a0-7181-4c4c-a243-4b2d778e90df"
      },
      "execution_count": null,
      "outputs": [
        {
          "output_type": "stream",
          "name": "stdout",
          "text": [
            "Epoch 1/40\n",
            "20/20 [==============================] - 3s 46ms/step - loss: 3.7042 - mae: 1.5694 - val_loss: 3.0353 - val_mae: 1.4272\n",
            "Epoch 2/40\n",
            "20/20 [==============================] - 0s 24ms/step - loss: 3.0908 - mae: 1.4422 - val_loss: 2.5609 - val_mae: 1.3182\n",
            "Epoch 3/40\n",
            "20/20 [==============================] - 0s 21ms/step - loss: 2.4919 - mae: 1.3094 - val_loss: 2.0453 - val_mae: 1.1732\n",
            "Epoch 4/40\n",
            "20/20 [==============================] - 0s 22ms/step - loss: 1.8844 - mae: 1.1462 - val_loss: 1.6164 - val_mae: 1.0900\n",
            "Epoch 5/40\n",
            "20/20 [==============================] - 0s 23ms/step - loss: 1.4993 - mae: 1.0781 - val_loss: 1.4418 - val_mae: 1.0809\n",
            "Epoch 6/40\n",
            "20/20 [==============================] - 1s 25ms/step - loss: 1.4152 - mae: 1.0671 - val_loss: 1.4140 - val_mae: 1.0757\n",
            "Epoch 7/40\n",
            "20/20 [==============================] - 1s 31ms/step - loss: 1.4014 - mae: 1.0617 - val_loss: 1.4097 - val_mae: 1.0743\n",
            "Epoch 8/40\n",
            "20/20 [==============================] - 1s 34ms/step - loss: 1.3906 - mae: 1.0583 - val_loss: 1.4071 - val_mae: 1.0733\n",
            "Epoch 9/40\n",
            "20/20 [==============================] - 1s 33ms/step - loss: 1.3808 - mae: 1.0555 - val_loss: 1.4051 - val_mae: 1.0724\n",
            "Epoch 10/40\n",
            "20/20 [==============================] - 0s 22ms/step - loss: 1.3721 - mae: 1.0528 - val_loss: 1.4034 - val_mae: 1.0714\n",
            "Epoch 11/40\n",
            "20/20 [==============================] - 0s 24ms/step - loss: 1.3642 - mae: 1.0502 - val_loss: 1.4020 - val_mae: 1.0704\n",
            "Epoch 12/40\n",
            "20/20 [==============================] - 0s 24ms/step - loss: 1.3570 - mae: 1.0476 - val_loss: 1.4008 - val_mae: 1.0695\n",
            "Epoch 13/40\n",
            "20/20 [==============================] - 0s 22ms/step - loss: 1.3504 - mae: 1.0451 - val_loss: 1.3996 - val_mae: 1.0685\n",
            "Epoch 14/40\n",
            "20/20 [==============================] - 0s 22ms/step - loss: 1.3442 - mae: 1.0427 - val_loss: 1.3984 - val_mae: 1.0674\n",
            "Epoch 15/40\n",
            "20/20 [==============================] - 0s 24ms/step - loss: 1.3385 - mae: 1.0403 - val_loss: 1.3973 - val_mae: 1.0664\n",
            "Epoch 16/40\n",
            "20/20 [==============================] - 0s 21ms/step - loss: 1.3330 - mae: 1.0381 - val_loss: 1.3961 - val_mae: 1.0654\n",
            "Epoch 17/40\n",
            "20/20 [==============================] - 0s 20ms/step - loss: 1.3279 - mae: 1.0358 - val_loss: 1.3950 - val_mae: 1.0643\n",
            "Epoch 18/40\n",
            "20/20 [==============================] - 0s 19ms/step - loss: 1.3230 - mae: 1.0335 - val_loss: 1.3938 - val_mae: 1.0633\n",
            "Epoch 19/40\n",
            "20/20 [==============================] - 1s 25ms/step - loss: 1.3184 - mae: 1.0313 - val_loss: 1.3926 - val_mae: 1.0623\n",
            "Epoch 20/40\n",
            "20/20 [==============================] - 0s 21ms/step - loss: 1.3139 - mae: 1.0290 - val_loss: 1.3914 - val_mae: 1.0612\n",
            "Epoch 21/40\n",
            "20/20 [==============================] - 0s 19ms/step - loss: 1.3096 - mae: 1.0268 - val_loss: 1.3901 - val_mae: 1.0602\n",
            "Epoch 22/40\n",
            "20/20 [==============================] - 0s 20ms/step - loss: 1.3055 - mae: 1.0245 - val_loss: 1.3889 - val_mae: 1.0592\n",
            "Epoch 23/40\n",
            "20/20 [==============================] - 0s 24ms/step - loss: 1.3014 - mae: 1.0223 - val_loss: 1.3876 - val_mae: 1.0582\n",
            "Epoch 24/40\n",
            "20/20 [==============================] - 0s 20ms/step - loss: 1.2975 - mae: 1.0201 - val_loss: 1.3864 - val_mae: 1.0572\n",
            "Epoch 25/40\n",
            "20/20 [==============================] - 0s 21ms/step - loss: 1.2936 - mae: 1.0179 - val_loss: 1.3852 - val_mae: 1.0562\n",
            "Epoch 26/40\n",
            "20/20 [==============================] - 0s 21ms/step - loss: 1.2898 - mae: 1.0157 - val_loss: 1.3840 - val_mae: 1.0553\n",
            "Epoch 27/40\n",
            "20/20 [==============================] - 1s 26ms/step - loss: 1.2860 - mae: 1.0135 - val_loss: 1.3828 - val_mae: 1.0543\n",
            "Epoch 28/40\n",
            "20/20 [==============================] - 1s 31ms/step - loss: 1.2823 - mae: 1.0113 - val_loss: 1.3816 - val_mae: 1.0533\n",
            "Epoch 29/40\n",
            "20/20 [==============================] - 1s 32ms/step - loss: 1.2786 - mae: 1.0091 - val_loss: 1.3805 - val_mae: 1.0524\n",
            "Epoch 30/40\n",
            "20/20 [==============================] - 0s 22ms/step - loss: 1.2749 - mae: 1.0069 - val_loss: 1.3794 - val_mae: 1.0514\n",
            "Epoch 31/40\n",
            "20/20 [==============================] - 0s 20ms/step - loss: 1.2712 - mae: 1.0046 - val_loss: 1.3784 - val_mae: 1.0505\n",
            "Epoch 32/40\n",
            "20/20 [==============================] - 0s 20ms/step - loss: 1.2675 - mae: 1.0023 - val_loss: 1.3774 - val_mae: 1.0495\n",
            "Epoch 33/40\n",
            "20/20 [==============================] - 0s 19ms/step - loss: 1.2638 - mae: 1.0000 - val_loss: 1.3766 - val_mae: 1.0486\n",
            "Epoch 34/40\n",
            "20/20 [==============================] - 0s 25ms/step - loss: 1.2601 - mae: 0.9977 - val_loss: 1.3758 - val_mae: 1.0476\n",
            "Epoch 35/40\n",
            "20/20 [==============================] - 0s 20ms/step - loss: 1.2564 - mae: 0.9954 - val_loss: 1.3751 - val_mae: 1.0467\n",
            "Epoch 36/40\n",
            "20/20 [==============================] - 0s 23ms/step - loss: 1.2528 - mae: 0.9930 - val_loss: 1.3745 - val_mae: 1.0457\n",
            "Epoch 37/40\n",
            "20/20 [==============================] - 0s 24ms/step - loss: 1.2491 - mae: 0.9907 - val_loss: 1.3740 - val_mae: 1.0448\n",
            "Epoch 38/40\n",
            "20/20 [==============================] - 0s 23ms/step - loss: 1.2454 - mae: 0.9883 - val_loss: 1.3737 - val_mae: 1.0438\n",
            "Epoch 39/40\n",
            "20/20 [==============================] - 0s 22ms/step - loss: 1.2417 - mae: 0.9859 - val_loss: 1.3734 - val_mae: 1.0429\n",
            "Epoch 40/40\n",
            "20/20 [==============================] - 0s 24ms/step - loss: 1.2381 - mae: 0.9835 - val_loss: 1.3734 - val_mae: 1.0419\n"
          ]
        }
      ]
    },
    {
      "cell_type": "code",
      "source": [
        "results4 = model_lstm4.predict(test_dataset) #LSTM 40 cells HR+EDA"
      ],
      "metadata": {
        "colab": {
          "base_uri": "https://localhost:8080/"
        },
        "id": "6i78WYXGYMJg",
        "outputId": "a5ca4607-0286-451f-fa77-14cb589e15f4"
      },
      "execution_count": null,
      "outputs": [
        {
          "output_type": "stream",
          "name": "stdout",
          "text": [
            "6/6 [==============================] - 1s 10ms/step\n"
          ]
        }
      ]
    },
    {
      "cell_type": "code",
      "source": [
        "#Plots to show the results from LSTM\n",
        "x=D_Lstm2.index[1521:1831]\n",
        "t=x.to_numpy()\n",
        "stress = D_Lstm2.values[1521:1831].T[4]# stress now LABEL\n",
        "plt.figure(figsize=(12,2.5), dpi=200)\n",
        "plt.plot(t, stress,'.-',color=\"#A233FF\",alpha=0.35,label=\"Stress\")\n",
        "plt.plot(t, results2[5:],'.-',color=\"#FD33FF\",alpha=0.55,label=\"Stress_predict LSTM 20 Cells\")\n",
        "plt.plot(t, results3[5:],'.-',color=\"#0033FF\",alpha=0.35,label=\"Stress_predict_LSTM 40 Cells\")\n",
        "plt.plot(t, results4[5:],'.-',color=\"#12A2B6\",alpha=0.55,label=\"Stress_predict_40Cells without T\")\n",
        "\n",
        "plt.title(\"Test_set\",fontsize=10)\n",
        "plt.legend()\n",
        "plt.xlabel(\"time\")\n",
        "plt.ylabel(\"level\")\n",
        "plt.grid('True')\n",
        "plt.show()\n",
        "\n"
      ],
      "metadata": {
        "colab": {
          "base_uri": "https://localhost:8080/",
          "height": 279
        },
        "id": "sKYIwYMmvFwp",
        "outputId": "926958f7-5087-494a-e103-6b1529ce9780"
      },
      "execution_count": null,
      "outputs": [
        {
          "output_type": "display_data",
          "data": {
            "text/plain": [
              "<Figure size 2400x500 with 1 Axes>"
            ],
            "image/png": "[encoded data removed]"
          },
          "metadata": {}
        }
      ]
    },
    {
      "cell_type": "code",
      "source": [
        "#Now is time to evaluate\n",
        "#Our predict result are not integer data, so we use a loop to have a new vectors  with integer results\n",
        "aux20 = []\n",
        "for h in range(5,len(results2)):\n",
        "  aux20.append(round(results2[h,0]))\n",
        "\n",
        "aux40 = []\n",
        "for h in range(5,len(results3)):\n",
        "  aux40.append(round(results3[h,0]))\n",
        "\n",
        "aux_T = []\n",
        "for h in range(5,len(results4)):\n",
        "  aux_T.append(round(results4[h,0]))"
      ],
      "metadata": {
        "id": "5c2DryKcvtkq"
      },
      "execution_count": null,
      "outputs": []
    },
    {
      "cell_type": "code",
      "source": [
        "print(len(aux_T))"
      ],
      "metadata": {
        "colab": {
          "base_uri": "https://localhost:8080/"
        },
        "id": "duySin1xjUnj",
        "outputId": "1160ad92-3f78-482f-a7b5-177fbfee25cf"
      },
      "execution_count": null,
      "outputs": [
        {
          "output_type": "stream",
          "name": "stdout",
          "text": [
            "310\n"
          ]
        }
      ]
    },
    {
      "cell_type": "code",
      "source": [
        "from sklearn.metrics import precision_recall_fscore_support as score\n",
        "from sklearn import metrics\n",
        "from sklearn.metrics import accuracy_score\n",
        "from sklearn.metrics import confusion_matrix"
      ],
      "metadata": {
        "id": "ykyWhcv0kgq5"
      },
      "execution_count": null,
      "outputs": []
    },
    {
      "cell_type": "markdown",
      "source": [
        "Here we evaluate models' accuracy, despite in the plot we can appreciate that our models try to follow the patern, we need to measure how good they are."
      ],
      "metadata": {
        "id": "zMsYNf177gZN"
      }
    },
    {
      "cell_type": "code",
      "source": [
        "print(\"Accuracy:\",metrics.accuracy_score(stress, aux20))\n",
        "print(\"Accuracy:\",metrics.accuracy_score(stress, aux40))\n",
        "print(\"Accuracy:\",metrics.accuracy_score(stress, aux_T))"
      ],
      "metadata": {
        "colab": {
          "base_uri": "https://localhost:8080/"
        },
        "id": "JeP3va55kuTc",
        "outputId": "cb1be118-dded-42c1-ef67-d97cd1887bb4"
      },
      "execution_count": null,
      "outputs": [
        {
          "output_type": "stream",
          "name": "stdout",
          "text": [
            "Accuracy: 0.21935483870967742\n",
            "Accuracy: 0.2161290322580645\n",
            "Accuracy: 0.22903225806451613\n"
          ]
        }
      ]
    },
    {
      "cell_type": "markdown",
      "source": [
        "Poor performance! 😢 💔"
      ],
      "metadata": {
        "id": "8UfBpPVC8FwC"
      }
    },
    {
      "cell_type": "code",
      "source": [
        "val_cross_T = pd.crosstab(stress, aux40)\n",
        "val_cross_T"
      ],
      "metadata": {
        "colab": {
          "base_uri": "https://localhost:8080/",
          "height": 206
        },
        "id": "64tDXDCVk9Kx",
        "outputId": "11c1591b-0a5a-4265-ac27-3de09647f803"
      },
      "execution_count": null,
      "outputs": [
        {
          "output_type": "execute_result",
          "data": {
            "text/plain": [
              "col_0  0   1   2   3\n",
              "row_0               \n",
              "0.0    7  53  20   0\n",
              "1.0    7  34  38   0\n",
              "2.0    1  33  14   7\n",
              "3.0    7  46  31  12"
            ],
            "text/html": [
              "\n",
              "  <div id=\"df-e9742092-6fa1-4554-8e35-797fa6839a9c\">\n",
              "    <div class=\"colab-df-container\">\n",
              "      <div>\n",
              "<style scoped>\n",
              "    .dataframe tbody tr th:only-of-type {\n",
              "        vertical-align: middle;\n",
              "    }\n",
              "\n",
              "    .dataframe tbody tr th {\n",
              "        vertical-align: top;\n",
              "    }\n",
              "\n",
              "    .dataframe thead th {\n",
              "        text-align: right;\n",
              "    }\n",
              "</style>\n",
              "<table border=\"1\" class=\"dataframe\">\n",
              "  <thead>\n",
              "    <tr style=\"text-align: right;\">\n",
              "      <th>col_0</th>\n",
              "      <th>0</th>\n",
              "      <th>1</th>\n",
              "      <th>2</th>\n",
              "      <th>3</th>\n",
              "    </tr>\n",
              "    <tr>\n",
              "      <th>row_0</th>\n",
              "      <th></th>\n",
              "      <th></th>\n",
              "      <th></th>\n",
              "      <th></th>\n",
              "    </tr>\n",
              "  </thead>\n",
              "  <tbody>\n",
              "    <tr>\n",
              "      <th>0.0</th>\n",
              "      <td>7</td>\n",
              "      <td>53</td>\n",
              "      <td>20</td>\n",
              "      <td>0</td>\n",
              "    </tr>\n",
              "    <tr>\n",
              "      <th>1.0</th>\n",
              "      <td>7</td>\n",
              "      <td>34</td>\n",
              "      <td>38</td>\n",
              "      <td>0</td>\n",
              "    </tr>\n",
              "    <tr>\n",
              "      <th>2.0</th>\n",
              "      <td>1</td>\n",
              "      <td>33</td>\n",
              "      <td>14</td>\n",
              "      <td>7</td>\n",
              "    </tr>\n",
              "    <tr>\n",
              "      <th>3.0</th>\n",
              "      <td>7</td>\n",
              "      <td>46</td>\n",
              "      <td>31</td>\n",
              "      <td>12</td>\n",
              "    </tr>\n",
              "  </tbody>\n",
              "</table>\n",
              "</div>\n",
              "      <button class=\"colab-df-convert\" onclick=\"convertToInteractive('df-e9742092-6fa1-4554-8e35-797fa6839a9c')\"\n",
              "              title=\"Convert this dataframe to an interactive table.\"\n",
              "              style=\"display:none;\">\n",
              "        \n",
              "  <svg xmlns=\"http://www.w3.org/2000/svg\" height=\"24px\"viewBox=\"0 0 24 24\"\n",
              "       width=\"24px\">\n",
              "    <path d=\"M0 0h24v24H0V0z\" fill=\"none\"/>\n",
              "    <path d=\"M18.56 5.44l.94 2.06.94-2.06 2.06-.94-2.06-.94-.94-2.06-.94 2.06-2.06.94zm-11 1L8.5 8.5l.94-2.06 2.06-.94-2.06-.94L8.5 2.5l-.94 2.06-2.06.94zm10 10l.94 2.06.94-2.06 2.06-.94-2.06-.94-.94-2.06-.94 2.06-2.06.94z\"/><path d=\"M17.41 7.96l-1.37-1.37c-.4-.4-.92-.59-1.43-.59-.52 0-1.04.2-1.43.59L10.3 9.45l-7.72 7.72c-.78.78-.78 2.05 0 2.83L4 21.41c.39.39.9.59 1.41.59.51 0 1.02-.2 1.41-.59l7.78-7.78 2.81-2.81c.8-.78.8-2.07 0-2.86zM5.41 20L4 18.59l7.72-7.72 1.47 1.35L5.41 20z\"/>\n",
              "  </svg>\n",
              "      </button>\n",
              "      \n",
              "  <style>\n",
              "    .colab-df-container {\n",
              "      display:flex;\n",
              "      flex-wrap:wrap;\n",
              "      gap: 12px;\n",
              "    }\n",
              "\n",
              "    .colab-df-convert {\n",
              "      background-color: #E8F0FE;\n",
              "      border: none;\n",
              "      border-radius: 50%;\n",
              "      cursor: pointer;\n",
              "      display: none;\n",
              "      fill: #1967D2;\n",
              "      height: 32px;\n",
              "      padding: 0 0 0 0;\n",
              "      width: 32px;\n",
              "    }\n",
              "\n",
              "    .colab-df-convert:hover {\n",
              "      background-color: #E2EBFA;\n",
              "      box-shadow: 0px 1px 2px rgba(60, 64, 67, 0.3), 0px 1px 3px 1px rgba(60, 64, 67, 0.15);\n",
              "      fill: #174EA6;\n",
              "    }\n",
              "\n",
              "    [theme=dark] .colab-df-convert {\n",
              "      background-color: #3B4455;\n",
              "      fill: #D2E3FC;\n",
              "    }\n",
              "\n",
              "    [theme=dark] .colab-df-convert:hover {\n",
              "      background-color: #434B5C;\n",
              "      box-shadow: 0px 1px 3px 1px rgba(0, 0, 0, 0.15);\n",
              "      filter: drop-shadow(0px 1px 2px rgba(0, 0, 0, 0.3));\n",
              "      fill: #FFFFFF;\n",
              "    }\n",
              "  </style>\n",
              "\n",
              "      <script>\n",
              "        const buttonEl =\n",
              "          document.querySelector('#df-e9742092-6fa1-4554-8e35-797fa6839a9c button.colab-df-convert');\n",
              "        buttonEl.style.display =\n",
              "          google.colab.kernel.accessAllowed ? 'block' : 'none';\n",
              "\n",
              "        async function convertToInteractive(key) {\n",
              "          const element = document.querySelector('#df-e9742092-6fa1-4554-8e35-797fa6839a9c');\n",
              "          const dataTable =\n",
              "            await google.colab.kernel.invokeFunction('convertToInteractive',\n",
              "                                                     [key], {});\n",
              "          if (!dataTable) return;\n",
              "\n",
              "          const docLinkHtml = 'Like what you see? Visit the ' +\n",
              "            '<a target=\"_blank\" href=https://colab.research.google.com/notebooks/data_table.ipynb>data table notebook</a>'\n",
              "            + ' to learn more about interactive tables.';\n",
              "          element.innerHTML = '';\n",
              "          dataTable['output_type'] = 'display_data';\n",
              "          await google.colab.output.renderOutput(dataTable, element);\n",
              "          const docLink = document.createElement('div');\n",
              "          docLink.innerHTML = docLinkHtml;\n",
              "          element.appendChild(docLink);\n",
              "        }\n",
              "      </script>\n",
              "    </div>\n",
              "  </div>\n",
              "  "
            ]
          },
          "metadata": {},
          "execution_count": 57
        }
      ]
    },
    {
      "cell_type": "code",
      "source": [
        "# To model\n",
        "# ==============================================================================\n",
        "from sklearn.model_selection import train_test_split\n",
        "from sklearn.tree import DecisionTreeClassifier\n",
        "from sklearn.tree import plot_tree\n",
        "from sklearn.tree import export_graphviz\n",
        "from sklearn.tree import export_text\n",
        "from sklearn.model_selection import GridSearchCV\n",
        "from sklearn.compose import ColumnTransformer\n",
        "from sklearn.preprocessing import OneHotEncoder\n",
        "from sklearn.metrics import accuracy_score\n",
        "from sklearn.metrics import confusion_matrix\n",
        "from sklearn import metrics\n",
        "from sklearn.metrics import precision_recall_fscore_support as score"
      ],
      "metadata": {
        "id": "fFxBnUhZRc6L"
      },
      "execution_count": null,
      "outputs": []
    },
    {
      "cell_type": "code",
      "source": [
        "# Separating data\n",
        "# ==============================================================================\n",
        "from sklearn.model_selection import train_test_split\n",
        "from sklearn.ensemble import RandomForestClassifier\n",
        "Dat = DatLSTM.replace({0: \"Zero\", 1: \"Stress1\", 2:\"Stress2\", 3:\"Stress3\"})\n",
        "Dat.head()\n"
      ],
      "metadata": {
        "colab": {
          "base_uri": "https://localhost:8080/",
          "height": 206
        },
        "id": "QwXXpQSJR4a5",
        "outputId": "cb21e641-2552-4619-e6d6-ad66c4c3068e"
      },
      "execution_count": null,
      "outputs": [
        {
          "output_type": "execute_result",
          "data": {
            "text/plain": [
              "   Unnamed: 0 Participant         HR       EDA       Temp Label stress\n",
              "0         5.0     Stress2  72.987667  0.191197  35.878667  Zero   Zero\n",
              "1         6.0     Stress2  83.833000  0.222997  35.955333  Zero   Zero\n",
              "2         7.0     Stress2  87.537000  0.247216  36.054667  Zero   Zero\n",
              "3         8.0     Stress2  84.711667  0.262016  36.133000  Zero   Zero\n",
              "4         9.0     Stress2  92.909333  0.265123  36.176000  Zero   Zero"
            ],
            "text/html": [
              "\n",
              "  <div id=\"df-10c4af9e-ba6b-465c-b89a-1c7fddd928dc\">\n",
              "    <div class=\"colab-df-container\">\n",
              "      <div>\n",
              "<style scoped>\n",
              "    .dataframe tbody tr th:only-of-type {\n",
              "        vertical-align: middle;\n",
              "    }\n",
              "\n",
              "    .dataframe tbody tr th {\n",
              "        vertical-align: top;\n",
              "    }\n",
              "\n",
              "    .dataframe thead th {\n",
              "        text-align: right;\n",
              "    }\n",
              "</style>\n",
              "<table border=\"1\" class=\"dataframe\">\n",
              "  <thead>\n",
              "    <tr style=\"text-align: right;\">\n",
              "      <th></th>\n",
              "      <th>Unnamed: 0</th>\n",
              "      <th>Participant</th>\n",
              "      <th>HR</th>\n",
              "      <th>EDA</th>\n",
              "      <th>Temp</th>\n",
              "      <th>Label</th>\n",
              "      <th>stress</th>\n",
              "    </tr>\n",
              "  </thead>\n",
              "  <tbody>\n",
              "    <tr>\n",
              "      <th>0</th>\n",
              "      <td>5.0</td>\n",
              "      <td>Stress2</td>\n",
              "      <td>72.987667</td>\n",
              "      <td>0.191197</td>\n",
              "      <td>35.878667</td>\n",
              "      <td>Zero</td>\n",
              "      <td>Zero</td>\n",
              "    </tr>\n",
              "    <tr>\n",
              "      <th>1</th>\n",
              "      <td>6.0</td>\n",
              "      <td>Stress2</td>\n",
              "      <td>83.833000</td>\n",
              "      <td>0.222997</td>\n",
              "      <td>35.955333</td>\n",
              "      <td>Zero</td>\n",
              "      <td>Zero</td>\n",
              "    </tr>\n",
              "    <tr>\n",
              "      <th>2</th>\n",
              "      <td>7.0</td>\n",
              "      <td>Stress2</td>\n",
              "      <td>87.537000</td>\n",
              "      <td>0.247216</td>\n",
              "      <td>36.054667</td>\n",
              "      <td>Zero</td>\n",
              "      <td>Zero</td>\n",
              "    </tr>\n",
              "    <tr>\n",
              "      <th>3</th>\n",
              "      <td>8.0</td>\n",
              "      <td>Stress2</td>\n",
              "      <td>84.711667</td>\n",
              "      <td>0.262016</td>\n",
              "      <td>36.133000</td>\n",
              "      <td>Zero</td>\n",
              "      <td>Zero</td>\n",
              "    </tr>\n",
              "    <tr>\n",
              "      <th>4</th>\n",
              "      <td>9.0</td>\n",
              "      <td>Stress2</td>\n",
              "      <td>92.909333</td>\n",
              "      <td>0.265123</td>\n",
              "      <td>36.176000</td>\n",
              "      <td>Zero</td>\n",
              "      <td>Zero</td>\n",
              "    </tr>\n",
              "  </tbody>\n",
              "</table>\n",
              "</div>\n",
              "      <button class=\"colab-df-convert\" onclick=\"convertToInteractive('df-10c4af9e-ba6b-465c-b89a-1c7fddd928dc')\"\n",
              "              title=\"Convert this dataframe to an interactive table.\"\n",
              "              style=\"display:none;\">\n",
              "        \n",
              "  <svg xmlns=\"http://www.w3.org/2000/svg\" height=\"24px\"viewBox=\"0 0 24 24\"\n",
              "       width=\"24px\">\n",
              "    <path d=\"M0 0h24v24H0V0z\" fill=\"none\"/>\n",
              "    <path d=\"M18.56 5.44l.94 2.06.94-2.06 2.06-.94-2.06-.94-.94-2.06-.94 2.06-2.06.94zm-11 1L8.5 8.5l.94-2.06 2.06-.94-2.06-.94L8.5 2.5l-.94 2.06-2.06.94zm10 10l.94 2.06.94-2.06 2.06-.94-2.06-.94-.94-2.06-.94 2.06-2.06.94z\"/><path d=\"M17.41 7.96l-1.37-1.37c-.4-.4-.92-.59-1.43-.59-.52 0-1.04.2-1.43.59L10.3 9.45l-7.72 7.72c-.78.78-.78 2.05 0 2.83L4 21.41c.39.39.9.59 1.41.59.51 0 1.02-.2 1.41-.59l7.78-7.78 2.81-2.81c.8-.78.8-2.07 0-2.86zM5.41 20L4 18.59l7.72-7.72 1.47 1.35L5.41 20z\"/>\n",
              "  </svg>\n",
              "      </button>\n",
              "      \n",
              "  <style>\n",
              "    .colab-df-container {\n",
              "      display:flex;\n",
              "      flex-wrap:wrap;\n",
              "      gap: 12px;\n",
              "    }\n",
              "\n",
              "    .colab-df-convert {\n",
              "      background-color: #E8F0FE;\n",
              "      border: none;\n",
              "      border-radius: 50%;\n",
              "      cursor: pointer;\n",
              "      display: none;\n",
              "      fill: #1967D2;\n",
              "      height: 32px;\n",
              "      padding: 0 0 0 0;\n",
              "      width: 32px;\n",
              "    }\n",
              "\n",
              "    .colab-df-convert:hover {\n",
              "      background-color: #E2EBFA;\n",
              "      box-shadow: 0px 1px 2px rgba(60, 64, 67, 0.3), 0px 1px 3px 1px rgba(60, 64, 67, 0.15);\n",
              "      fill: #174EA6;\n",
              "    }\n",
              "\n",
              "    [theme=dark] .colab-df-convert {\n",
              "      background-color: #3B4455;\n",
              "      fill: #D2E3FC;\n",
              "    }\n",
              "\n",
              "    [theme=dark] .colab-df-convert:hover {\n",
              "      background-color: #434B5C;\n",
              "      box-shadow: 0px 1px 3px 1px rgba(0, 0, 0, 0.15);\n",
              "      filter: drop-shadow(0px 1px 2px rgba(0, 0, 0, 0.3));\n",
              "      fill: #FFFFFF;\n",
              "    }\n",
              "  </style>\n",
              "\n",
              "      <script>\n",
              "        const buttonEl =\n",
              "          document.querySelector('#df-10c4af9e-ba6b-465c-b89a-1c7fddd928dc button.colab-df-convert');\n",
              "        buttonEl.style.display =\n",
              "          google.colab.kernel.accessAllowed ? 'block' : 'none';\n",
              "\n",
              "        async function convertToInteractive(key) {\n",
              "          const element = document.querySelector('#df-10c4af9e-ba6b-465c-b89a-1c7fddd928dc');\n",
              "          const dataTable =\n",
              "            await google.colab.kernel.invokeFunction('convertToInteractive',\n",
              "                                                     [key], {});\n",
              "          if (!dataTable) return;\n",
              "\n",
              "          const docLinkHtml = 'Like what you see? Visit the ' +\n",
              "            '<a target=\"_blank\" href=https://colab.research.google.com/notebooks/data_table.ipynb>data table notebook</a>'\n",
              "            + ' to learn more about interactive tables.';\n",
              "          element.innerHTML = '';\n",
              "          dataTable['output_type'] = 'display_data';\n",
              "          await google.colab.output.renderOutput(dataTable, element);\n",
              "          const docLink = document.createElement('div');\n",
              "          docLink.innerHTML = docLinkHtml;\n",
              "          element.appendChild(docLink);\n",
              "        }\n",
              "      </script>\n",
              "    </div>\n",
              "  </div>\n",
              "  "
            ]
          },
          "metadata": {},
          "execution_count": 8
        }
      ]
    },
    {
      "cell_type": "code",
      "source": [
        "X = Dat[['HR','EDA']]\n",
        "y = Dat['Label']\n",
        "X_train, X_test, y_train, y_test = train_test_split(X, y, stratify=y, test_size = 0.2645, random_state = 100)\n",
        "print(len(y_test))"
      ],
      "metadata": {
        "id": "ZEhfgJ18mbd8",
        "colab": {
          "base_uri": "https://localhost:8080/"
        },
        "outputId": "3b8be99c-546e-4848-a476-a1c82aa78492"
      },
      "execution_count": null,
      "outputs": [
        {
          "output_type": "stream",
          "name": "stdout",
          "text": [
            "486\n"
          ]
        }
      ]
    },
    {
      "cell_type": "code",
      "source": [
        "forest = RandomForestClassifier(n_estimators=100, random_state = 100)\n",
        "#Fitting models\n",
        "forest.fit(X_train, y_train)\n",
        "predictions = forest.predict(X_test)\n",
        "# Evaluating the model\n",
        "print(\"Accuracy:\",metrics.accuracy_score(y_test, predictions))"
      ],
      "metadata": {
        "colab": {
          "base_uri": "https://localhost:8080/"
        },
        "id": "WzpcfIdFSsT2",
        "outputId": "9f2b9308-963e-4468-cc17-f10211bd8e92"
      },
      "execution_count": null,
      "outputs": [
        {
          "output_type": "stream",
          "name": "stdout",
          "text": [
            "Accuracy: 0.5082304526748971\n"
          ]
        }
      ]
    },
    {
      "cell_type": "code",
      "source": [
        "# Model train error\n",
        "#-------------------------------------------------------------------------------\n",
        "val_cross1 = pd.crosstab(y_train, forest.predict(X = X_train))\n",
        "val_cross1"
      ],
      "metadata": {
        "colab": {
          "base_uri": "https://localhost:8080/",
          "height": 206
        },
        "id": "a3UTZDArS9T3",
        "outputId": "7da08fa1-93c9-452f-89f8-103d5be9bae4"
      },
      "execution_count": null,
      "outputs": [
        {
          "output_type": "execute_result",
          "data": {
            "text/plain": [
              "col_0    Stress1  Stress2  Stress3  Zero\n",
              "Label                                   \n",
              "Stress1      326        0        0     0\n",
              "Stress2        0      240        0     0\n",
              "Stress3        0        0      440     0\n",
              "Zero           0        0        0   344"
            ],
            "text/html": [
              "\n",
              "  <div id=\"df-b4814764-7def-466f-9dab-41693357fa8b\">\n",
              "    <div class=\"colab-df-container\">\n",
              "      <div>\n",
              "<style scoped>\n",
              "    .dataframe tbody tr th:only-of-type {\n",
              "        vertical-align: middle;\n",
              "    }\n",
              "\n",
              "    .dataframe tbody tr th {\n",
              "        vertical-align: top;\n",
              "    }\n",
              "\n",
              "    .dataframe thead th {\n",
              "        text-align: right;\n",
              "    }\n",
              "</style>\n",
              "<table border=\"1\" class=\"dataframe\">\n",
              "  <thead>\n",
              "    <tr style=\"text-align: right;\">\n",
              "      <th>col_0</th>\n",
              "      <th>Stress1</th>\n",
              "      <th>Stress2</th>\n",
              "      <th>Stress3</th>\n",
              "      <th>Zero</th>\n",
              "    </tr>\n",
              "    <tr>\n",
              "      <th>Label</th>\n",
              "      <th></th>\n",
              "      <th></th>\n",
              "      <th></th>\n",
              "      <th></th>\n",
              "    </tr>\n",
              "  </thead>\n",
              "  <tbody>\n",
              "    <tr>\n",
              "      <th>Stress1</th>\n",
              "      <td>326</td>\n",
              "      <td>0</td>\n",
              "      <td>0</td>\n",
              "      <td>0</td>\n",
              "    </tr>\n",
              "    <tr>\n",
              "      <th>Stress2</th>\n",
              "      <td>0</td>\n",
              "      <td>240</td>\n",
              "      <td>0</td>\n",
              "      <td>0</td>\n",
              "    </tr>\n",
              "    <tr>\n",
              "      <th>Stress3</th>\n",
              "      <td>0</td>\n",
              "      <td>0</td>\n",
              "      <td>440</td>\n",
              "      <td>0</td>\n",
              "    </tr>\n",
              "    <tr>\n",
              "      <th>Zero</th>\n",
              "      <td>0</td>\n",
              "      <td>0</td>\n",
              "      <td>0</td>\n",
              "      <td>344</td>\n",
              "    </tr>\n",
              "  </tbody>\n",
              "</table>\n",
              "</div>\n",
              "      <button class=\"colab-df-convert\" onclick=\"convertToInteractive('df-b4814764-7def-466f-9dab-41693357fa8b')\"\n",
              "              title=\"Convert this dataframe to an interactive table.\"\n",
              "              style=\"display:none;\">\n",
              "        \n",
              "  <svg xmlns=\"http://www.w3.org/2000/svg\" height=\"24px\"viewBox=\"0 0 24 24\"\n",
              "       width=\"24px\">\n",
              "    <path d=\"M0 0h24v24H0V0z\" fill=\"none\"/>\n",
              "    <path d=\"M18.56 5.44l.94 2.06.94-2.06 2.06-.94-2.06-.94-.94-2.06-.94 2.06-2.06.94zm-11 1L8.5 8.5l.94-2.06 2.06-.94-2.06-.94L8.5 2.5l-.94 2.06-2.06.94zm10 10l.94 2.06.94-2.06 2.06-.94-2.06-.94-.94-2.06-.94 2.06-2.06.94z\"/><path d=\"M17.41 7.96l-1.37-1.37c-.4-.4-.92-.59-1.43-.59-.52 0-1.04.2-1.43.59L10.3 9.45l-7.72 7.72c-.78.78-.78 2.05 0 2.83L4 21.41c.39.39.9.59 1.41.59.51 0 1.02-.2 1.41-.59l7.78-7.78 2.81-2.81c.8-.78.8-2.07 0-2.86zM5.41 20L4 18.59l7.72-7.72 1.47 1.35L5.41 20z\"/>\n",
              "  </svg>\n",
              "      </button>\n",
              "      \n",
              "  <style>\n",
              "    .colab-df-container {\n",
              "      display:flex;\n",
              "      flex-wrap:wrap;\n",
              "      gap: 12px;\n",
              "    }\n",
              "\n",
              "    .colab-df-convert {\n",
              "      background-color: #E8F0FE;\n",
              "      border: none;\n",
              "      border-radius: 50%;\n",
              "      cursor: pointer;\n",
              "      display: none;\n",
              "      fill: #1967D2;\n",
              "      height: 32px;\n",
              "      padding: 0 0 0 0;\n",
              "      width: 32px;\n",
              "    }\n",
              "\n",
              "    .colab-df-convert:hover {\n",
              "      background-color: #E2EBFA;\n",
              "      box-shadow: 0px 1px 2px rgba(60, 64, 67, 0.3), 0px 1px 3px 1px rgba(60, 64, 67, 0.15);\n",
              "      fill: #174EA6;\n",
              "    }\n",
              "\n",
              "    [theme=dark] .colab-df-convert {\n",
              "      background-color: #3B4455;\n",
              "      fill: #D2E3FC;\n",
              "    }\n",
              "\n",
              "    [theme=dark] .colab-df-convert:hover {\n",
              "      background-color: #434B5C;\n",
              "      box-shadow: 0px 1px 3px 1px rgba(0, 0, 0, 0.15);\n",
              "      filter: drop-shadow(0px 1px 2px rgba(0, 0, 0, 0.3));\n",
              "      fill: #FFFFFF;\n",
              "    }\n",
              "  </style>\n",
              "\n",
              "      <script>\n",
              "        const buttonEl =\n",
              "          document.querySelector('#df-b4814764-7def-466f-9dab-41693357fa8b button.colab-df-convert');\n",
              "        buttonEl.style.display =\n",
              "          google.colab.kernel.accessAllowed ? 'block' : 'none';\n",
              "\n",
              "        async function convertToInteractive(key) {\n",
              "          const element = document.querySelector('#df-b4814764-7def-466f-9dab-41693357fa8b');\n",
              "          const dataTable =\n",
              "            await google.colab.kernel.invokeFunction('convertToInteractive',\n",
              "                                                     [key], {});\n",
              "          if (!dataTable) return;\n",
              "\n",
              "          const docLinkHtml = 'Like what you see? Visit the ' +\n",
              "            '<a target=\"_blank\" href=https://colab.research.google.com/notebooks/data_table.ipynb>data table notebook</a>'\n",
              "            + ' to learn more about interactive tables.';\n",
              "          element.innerHTML = '';\n",
              "          dataTable['output_type'] = 'display_data';\n",
              "          await google.colab.output.renderOutput(dataTable, element);\n",
              "          const docLink = document.createElement('div');\n",
              "          docLink.innerHTML = docLinkHtml;\n",
              "          element.appendChild(docLink);\n",
              "        }\n",
              "      </script>\n",
              "    </div>\n",
              "  </div>\n",
              "  "
            ]
          },
          "metadata": {},
          "execution_count": 12
        }
      ]
    },
    {
      "cell_type": "code",
      "source": [
        "# Error de test for this model\n",
        "#-------------------------------------------------------------------------------\n",
        "val_cross2 = pd.crosstab(y_test, forest.predict(X = X_test))\n",
        "val_cross2"
      ],
      "metadata": {
        "colab": {
          "base_uri": "https://localhost:8080/",
          "height": 206
        },
        "id": "g4UmOItaTGi0",
        "outputId": "14addcd8-1133-410f-9374-c2c7e814ee74"
      },
      "execution_count": null,
      "outputs": [
        {
          "output_type": "execute_result",
          "data": {
            "text/plain": [
              "col_0    Stress1  Stress2  Stress3  Zero\n",
              "Label                                   \n",
              "Stress1       60       12       28    18\n",
              "Stress2       12       29       31    14\n",
              "Stress3       23       22       99    14\n",
              "Zero          31       13       21    59"
            ],
            "text/html": [
              "\n",
              "  <div id=\"df-7aa66bdd-3603-4eb3-aadb-e3b0561a7b43\">\n",
              "    <div class=\"colab-df-container\">\n",
              "      <div>\n",
              "<style scoped>\n",
              "    .dataframe tbody tr th:only-of-type {\n",
              "        vertical-align: middle;\n",
              "    }\n",
              "\n",
              "    .dataframe tbody tr th {\n",
              "        vertical-align: top;\n",
              "    }\n",
              "\n",
              "    .dataframe thead th {\n",
              "        text-align: right;\n",
              "    }\n",
              "</style>\n",
              "<table border=\"1\" class=\"dataframe\">\n",
              "  <thead>\n",
              "    <tr style=\"text-align: right;\">\n",
              "      <th>col_0</th>\n",
              "      <th>Stress1</th>\n",
              "      <th>Stress2</th>\n",
              "      <th>Stress3</th>\n",
              "      <th>Zero</th>\n",
              "    </tr>\n",
              "    <tr>\n",
              "      <th>Label</th>\n",
              "      <th></th>\n",
              "      <th></th>\n",
              "      <th></th>\n",
              "      <th></th>\n",
              "    </tr>\n",
              "  </thead>\n",
              "  <tbody>\n",
              "    <tr>\n",
              "      <th>Stress1</th>\n",
              "      <td>60</td>\n",
              "      <td>12</td>\n",
              "      <td>28</td>\n",
              "      <td>18</td>\n",
              "    </tr>\n",
              "    <tr>\n",
              "      <th>Stress2</th>\n",
              "      <td>12</td>\n",
              "      <td>29</td>\n",
              "      <td>31</td>\n",
              "      <td>14</td>\n",
              "    </tr>\n",
              "    <tr>\n",
              "      <th>Stress3</th>\n",
              "      <td>23</td>\n",
              "      <td>22</td>\n",
              "      <td>99</td>\n",
              "      <td>14</td>\n",
              "    </tr>\n",
              "    <tr>\n",
              "      <th>Zero</th>\n",
              "      <td>31</td>\n",
              "      <td>13</td>\n",
              "      <td>21</td>\n",
              "      <td>59</td>\n",
              "    </tr>\n",
              "  </tbody>\n",
              "</table>\n",
              "</div>\n",
              "      <button class=\"colab-df-convert\" onclick=\"convertToInteractive('df-7aa66bdd-3603-4eb3-aadb-e3b0561a7b43')\"\n",
              "              title=\"Convert this dataframe to an interactive table.\"\n",
              "              style=\"display:none;\">\n",
              "        \n",
              "  <svg xmlns=\"http://www.w3.org/2000/svg\" height=\"24px\"viewBox=\"0 0 24 24\"\n",
              "       width=\"24px\">\n",
              "    <path d=\"M0 0h24v24H0V0z\" fill=\"none\"/>\n",
              "    <path d=\"M18.56 5.44l.94 2.06.94-2.06 2.06-.94-2.06-.94-.94-2.06-.94 2.06-2.06.94zm-11 1L8.5 8.5l.94-2.06 2.06-.94-2.06-.94L8.5 2.5l-.94 2.06-2.06.94zm10 10l.94 2.06.94-2.06 2.06-.94-2.06-.94-.94-2.06-.94 2.06-2.06.94z\"/><path d=\"M17.41 7.96l-1.37-1.37c-.4-.4-.92-.59-1.43-.59-.52 0-1.04.2-1.43.59L10.3 9.45l-7.72 7.72c-.78.78-.78 2.05 0 2.83L4 21.41c.39.39.9.59 1.41.59.51 0 1.02-.2 1.41-.59l7.78-7.78 2.81-2.81c.8-.78.8-2.07 0-2.86zM5.41 20L4 18.59l7.72-7.72 1.47 1.35L5.41 20z\"/>\n",
              "  </svg>\n",
              "      </button>\n",
              "      \n",
              "  <style>\n",
              "    .colab-df-container {\n",
              "      display:flex;\n",
              "      flex-wrap:wrap;\n",
              "      gap: 12px;\n",
              "    }\n",
              "\n",
              "    .colab-df-convert {\n",
              "      background-color: #E8F0FE;\n",
              "      border: none;\n",
              "      border-radius: 50%;\n",
              "      cursor: pointer;\n",
              "      display: none;\n",
              "      fill: #1967D2;\n",
              "      height: 32px;\n",
              "      padding: 0 0 0 0;\n",
              "      width: 32px;\n",
              "    }\n",
              "\n",
              "    .colab-df-convert:hover {\n",
              "      background-color: #E2EBFA;\n",
              "      box-shadow: 0px 1px 2px rgba(60, 64, 67, 0.3), 0px 1px 3px 1px rgba(60, 64, 67, 0.15);\n",
              "      fill: #174EA6;\n",
              "    }\n",
              "\n",
              "    [theme=dark] .colab-df-convert {\n",
              "      background-color: #3B4455;\n",
              "      fill: #D2E3FC;\n",
              "    }\n",
              "\n",
              "    [theme=dark] .colab-df-convert:hover {\n",
              "      background-color: #434B5C;\n",
              "      box-shadow: 0px 1px 3px 1px rgba(0, 0, 0, 0.15);\n",
              "      filter: drop-shadow(0px 1px 2px rgba(0, 0, 0, 0.3));\n",
              "      fill: #FFFFFF;\n",
              "    }\n",
              "  </style>\n",
              "\n",
              "      <script>\n",
              "        const buttonEl =\n",
              "          document.querySelector('#df-7aa66bdd-3603-4eb3-aadb-e3b0561a7b43 button.colab-df-convert');\n",
              "        buttonEl.style.display =\n",
              "          google.colab.kernel.accessAllowed ? 'block' : 'none';\n",
              "\n",
              "        async function convertToInteractive(key) {\n",
              "          const element = document.querySelector('#df-7aa66bdd-3603-4eb3-aadb-e3b0561a7b43');\n",
              "          const dataTable =\n",
              "            await google.colab.kernel.invokeFunction('convertToInteractive',\n",
              "                                                     [key], {});\n",
              "          if (!dataTable) return;\n",
              "\n",
              "          const docLinkHtml = 'Like what you see? Visit the ' +\n",
              "            '<a target=\"_blank\" href=https://colab.research.google.com/notebooks/data_table.ipynb>data table notebook</a>'\n",
              "            + ' to learn more about interactive tables.';\n",
              "          element.innerHTML = '';\n",
              "          dataTable['output_type'] = 'display_data';\n",
              "          await google.colab.output.renderOutput(dataTable, element);\n",
              "          const docLink = document.createElement('div');\n",
              "          docLink.innerHTML = docLinkHtml;\n",
              "          element.appendChild(docLink);\n",
              "        }\n",
              "      </script>\n",
              "    </div>\n",
              "  </div>\n",
              "  "
            ]
          },
          "metadata": {},
          "execution_count": 13
        }
      ]
    },
    {
      "cell_type": "code",
      "source": [],
      "metadata": {
        "id": "_7Rr3SPqTJYD"
      },
      "execution_count": null,
      "outputs": []
    },
    {
      "cell_type": "code",
      "source": [],
      "metadata": {
        "id": "8cvQio6FWgJd"
      },
      "execution_count": null,
      "outputs": []
    }
  ]
}