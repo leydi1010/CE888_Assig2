{
  "nbformat": 4,
  "nbformat_minor": 0,
  "metadata": {
    "colab": {
      "provenance": [],
      "authorship_tag": "ABX9TyP98yiET+L8bgm3DmdOxdYs"
    },
    "kernelspec": {
      "name": "python3",
      "display_name": "Python 3"
    },
    "language_info": {
      "name": "python"
    }
  },
  "cells": [
    {
      "cell_type": "code",
      "execution_count": 1,
      "metadata": {
        "id": "y_CzkW9QINUG"
      },
      "outputs": [],
      "source": [
        "import matplotlib\n",
        "import numpy as np\n",
        "import matplotlib.pyplot as plt\n",
        "import pandas as pd\n",
        "import datetime\n",
        "import random"
      ]
    },
    {
      "cell_type": "code",
      "source": [
        "#Load the data set where we have data at 0.5 Hz\n",
        "person = pd.read_excel('merge2sNWL.xlsx')\n",
        "person.head()"
      ],
      "metadata": {
        "colab": {
          "base_uri": "https://localhost:8080/",
          "height": 206
        },
        "id": "-UZbpzC-Ioj8",
        "outputId": "41d96fb9-2e89-4bb2-d55c-6c23f27ab627"
      },
      "execution_count": 2,
      "outputs": [
        {
          "output_type": "execute_result",
          "data": {
            "text/plain": [
              "   Unnamed: 0  Participant       HR       EDA   Temp  Label   EDA_ene\n",
              "0         0.0          2.0  115.750  0.618226  34.76    0.0  0.764408\n",
              "1         1.0          2.0   93.125  0.603330  34.80    0.0  0.728258\n",
              "2         2.0          2.0   84.115  0.494090  34.84    0.0  0.488904\n",
              "3         3.0          2.0   78.915  0.459171  34.83    0.0  0.421726\n",
              "4         4.0          2.0   76.135  0.442353  34.76    0.0  0.391404"
            ],
            "text/html": [
              "\n",
              "  <div id=\"df-fb70d0bb-bfad-4de2-a5f8-6966a0cc9466\">\n",
              "    <div class=\"colab-df-container\">\n",
              "      <div>\n",
              "<style scoped>\n",
              "    .dataframe tbody tr th:only-of-type {\n",
              "        vertical-align: middle;\n",
              "    }\n",
              "\n",
              "    .dataframe tbody tr th {\n",
              "        vertical-align: top;\n",
              "    }\n",
              "\n",
              "    .dataframe thead th {\n",
              "        text-align: right;\n",
              "    }\n",
              "</style>\n",
              "<table border=\"1\" class=\"dataframe\">\n",
              "  <thead>\n",
              "    <tr style=\"text-align: right;\">\n",
              "      <th></th>\n",
              "      <th>Unnamed: 0</th>\n",
              "      <th>Participant</th>\n",
              "      <th>HR</th>\n",
              "      <th>EDA</th>\n",
              "      <th>Temp</th>\n",
              "      <th>Label</th>\n",
              "      <th>EDA_ene</th>\n",
              "    </tr>\n",
              "  </thead>\n",
              "  <tbody>\n",
              "    <tr>\n",
              "      <th>0</th>\n",
              "      <td>0.0</td>\n",
              "      <td>2.0</td>\n",
              "      <td>115.750</td>\n",
              "      <td>0.618226</td>\n",
              "      <td>34.76</td>\n",
              "      <td>0.0</td>\n",
              "      <td>0.764408</td>\n",
              "    </tr>\n",
              "    <tr>\n",
              "      <th>1</th>\n",
              "      <td>1.0</td>\n",
              "      <td>2.0</td>\n",
              "      <td>93.125</td>\n",
              "      <td>0.603330</td>\n",
              "      <td>34.80</td>\n",
              "      <td>0.0</td>\n",
              "      <td>0.728258</td>\n",
              "    </tr>\n",
              "    <tr>\n",
              "      <th>2</th>\n",
              "      <td>2.0</td>\n",
              "      <td>2.0</td>\n",
              "      <td>84.115</td>\n",
              "      <td>0.494090</td>\n",
              "      <td>34.84</td>\n",
              "      <td>0.0</td>\n",
              "      <td>0.488904</td>\n",
              "    </tr>\n",
              "    <tr>\n",
              "      <th>3</th>\n",
              "      <td>3.0</td>\n",
              "      <td>2.0</td>\n",
              "      <td>78.915</td>\n",
              "      <td>0.459171</td>\n",
              "      <td>34.83</td>\n",
              "      <td>0.0</td>\n",
              "      <td>0.421726</td>\n",
              "    </tr>\n",
              "    <tr>\n",
              "      <th>4</th>\n",
              "      <td>4.0</td>\n",
              "      <td>2.0</td>\n",
              "      <td>76.135</td>\n",
              "      <td>0.442353</td>\n",
              "      <td>34.76</td>\n",
              "      <td>0.0</td>\n",
              "      <td>0.391404</td>\n",
              "    </tr>\n",
              "  </tbody>\n",
              "</table>\n",
              "</div>\n",
              "      <button class=\"colab-df-convert\" onclick=\"convertToInteractive('df-fb70d0bb-bfad-4de2-a5f8-6966a0cc9466')\"\n",
              "              title=\"Convert this dataframe to an interactive table.\"\n",
              "              style=\"display:none;\">\n",
              "        \n",
              "  <svg xmlns=\"http://www.w3.org/2000/svg\" height=\"24px\"viewBox=\"0 0 24 24\"\n",
              "       width=\"24px\">\n",
              "    <path d=\"M0 0h24v24H0V0z\" fill=\"none\"/>\n",
              "    <path d=\"M18.56 5.44l.94 2.06.94-2.06 2.06-.94-2.06-.94-.94-2.06-.94 2.06-2.06.94zm-11 1L8.5 8.5l.94-2.06 2.06-.94-2.06-.94L8.5 2.5l-.94 2.06-2.06.94zm10 10l.94 2.06.94-2.06 2.06-.94-2.06-.94-.94-2.06-.94 2.06-2.06.94z\"/><path d=\"M17.41 7.96l-1.37-1.37c-.4-.4-.92-.59-1.43-.59-.52 0-1.04.2-1.43.59L10.3 9.45l-7.72 7.72c-.78.78-.78 2.05 0 2.83L4 21.41c.39.39.9.59 1.41.59.51 0 1.02-.2 1.41-.59l7.78-7.78 2.81-2.81c.8-.78.8-2.07 0-2.86zM5.41 20L4 18.59l7.72-7.72 1.47 1.35L5.41 20z\"/>\n",
              "  </svg>\n",
              "      </button>\n",
              "      \n",
              "  <style>\n",
              "    .colab-df-container {\n",
              "      display:flex;\n",
              "      flex-wrap:wrap;\n",
              "      gap: 12px;\n",
              "    }\n",
              "\n",
              "    .colab-df-convert {\n",
              "      background-color: #E8F0FE;\n",
              "      border: none;\n",
              "      border-radius: 50%;\n",
              "      cursor: pointer;\n",
              "      display: none;\n",
              "      fill: #1967D2;\n",
              "      height: 32px;\n",
              "      padding: 0 0 0 0;\n",
              "      width: 32px;\n",
              "    }\n",
              "\n",
              "    .colab-df-convert:hover {\n",
              "      background-color: #E2EBFA;\n",
              "      box-shadow: 0px 1px 2px rgba(60, 64, 67, 0.3), 0px 1px 3px 1px rgba(60, 64, 67, 0.15);\n",
              "      fill: #174EA6;\n",
              "    }\n",
              "\n",
              "    [theme=dark] .colab-df-convert {\n",
              "      background-color: #3B4455;\n",
              "      fill: #D2E3FC;\n",
              "    }\n",
              "\n",
              "    [theme=dark] .colab-df-convert:hover {\n",
              "      background-color: #434B5C;\n",
              "      box-shadow: 0px 1px 3px 1px rgba(0, 0, 0, 0.15);\n",
              "      filter: drop-shadow(0px 1px 2px rgba(0, 0, 0, 0.3));\n",
              "      fill: #FFFFFF;\n",
              "    }\n",
              "  </style>\n",
              "\n",
              "      <script>\n",
              "        const buttonEl =\n",
              "          document.querySelector('#df-fb70d0bb-bfad-4de2-a5f8-6966a0cc9466 button.colab-df-convert');\n",
              "        buttonEl.style.display =\n",
              "          google.colab.kernel.accessAllowed ? 'block' : 'none';\n",
              "\n",
              "        async function convertToInteractive(key) {\n",
              "          const element = document.querySelector('#df-fb70d0bb-bfad-4de2-a5f8-6966a0cc9466');\n",
              "          const dataTable =\n",
              "            await google.colab.kernel.invokeFunction('convertToInteractive',\n",
              "                                                     [key], {});\n",
              "          if (!dataTable) return;\n",
              "\n",
              "          const docLinkHtml = 'Like what you see? Visit the ' +\n",
              "            '<a target=\"_blank\" href=https://colab.research.google.com/notebooks/data_table.ipynb>data table notebook</a>'\n",
              "            + ' to learn more about interactive tables.';\n",
              "          element.innerHTML = '';\n",
              "          dataTable['output_type'] = 'display_data';\n",
              "          await google.colab.output.renderOutput(dataTable, element);\n",
              "          const docLink = document.createElement('div');\n",
              "          docLink.innerHTML = docLinkHtml;\n",
              "          element.appendChild(docLink);\n",
              "        }\n",
              "      </script>\n",
              "    </div>\n",
              "  </div>\n",
              "  "
            ]
          },
          "metadata": {},
          "execution_count": 2
        }
      ]
    },
    {
      "cell_type": "code",
      "source": [
        "#Then we choose the participant\n",
        "x = person[person['Participant']==2]\n",
        "x.head()"
      ],
      "metadata": {
        "colab": {
          "base_uri": "https://localhost:8080/",
          "height": 206
        },
        "id": "Xb5X14XoI10e",
        "outputId": "49fcb4d3-d4b7-435b-bca3-ff2b1ccdc03b"
      },
      "execution_count": 3,
      "outputs": [
        {
          "output_type": "execute_result",
          "data": {
            "text/plain": [
              "   Unnamed: 0  Participant       HR       EDA   Temp  Label   EDA_ene\n",
              "0         0.0          2.0  115.750  0.618226  34.76    0.0  0.764408\n",
              "1         1.0          2.0   93.125  0.603330  34.80    0.0  0.728258\n",
              "2         2.0          2.0   84.115  0.494090  34.84    0.0  0.488904\n",
              "3         3.0          2.0   78.915  0.459171  34.83    0.0  0.421726\n",
              "4         4.0          2.0   76.135  0.442353  34.76    0.0  0.391404"
            ],
            "text/html": [
              "\n",
              "  <div id=\"df-209f772a-a79c-4bab-923f-36d22ffd326a\">\n",
              "    <div class=\"colab-df-container\">\n",
              "      <div>\n",
              "<style scoped>\n",
              "    .dataframe tbody tr th:only-of-type {\n",
              "        vertical-align: middle;\n",
              "    }\n",
              "\n",
              "    .dataframe tbody tr th {\n",
              "        vertical-align: top;\n",
              "    }\n",
              "\n",
              "    .dataframe thead th {\n",
              "        text-align: right;\n",
              "    }\n",
              "</style>\n",
              "<table border=\"1\" class=\"dataframe\">\n",
              "  <thead>\n",
              "    <tr style=\"text-align: right;\">\n",
              "      <th></th>\n",
              "      <th>Unnamed: 0</th>\n",
              "      <th>Participant</th>\n",
              "      <th>HR</th>\n",
              "      <th>EDA</th>\n",
              "      <th>Temp</th>\n",
              "      <th>Label</th>\n",
              "      <th>EDA_ene</th>\n",
              "    </tr>\n",
              "  </thead>\n",
              "  <tbody>\n",
              "    <tr>\n",
              "      <th>0</th>\n",
              "      <td>0.0</td>\n",
              "      <td>2.0</td>\n",
              "      <td>115.750</td>\n",
              "      <td>0.618226</td>\n",
              "      <td>34.76</td>\n",
              "      <td>0.0</td>\n",
              "      <td>0.764408</td>\n",
              "    </tr>\n",
              "    <tr>\n",
              "      <th>1</th>\n",
              "      <td>1.0</td>\n",
              "      <td>2.0</td>\n",
              "      <td>93.125</td>\n",
              "      <td>0.603330</td>\n",
              "      <td>34.80</td>\n",
              "      <td>0.0</td>\n",
              "      <td>0.728258</td>\n",
              "    </tr>\n",
              "    <tr>\n",
              "      <th>2</th>\n",
              "      <td>2.0</td>\n",
              "      <td>2.0</td>\n",
              "      <td>84.115</td>\n",
              "      <td>0.494090</td>\n",
              "      <td>34.84</td>\n",
              "      <td>0.0</td>\n",
              "      <td>0.488904</td>\n",
              "    </tr>\n",
              "    <tr>\n",
              "      <th>3</th>\n",
              "      <td>3.0</td>\n",
              "      <td>2.0</td>\n",
              "      <td>78.915</td>\n",
              "      <td>0.459171</td>\n",
              "      <td>34.83</td>\n",
              "      <td>0.0</td>\n",
              "      <td>0.421726</td>\n",
              "    </tr>\n",
              "    <tr>\n",
              "      <th>4</th>\n",
              "      <td>4.0</td>\n",
              "      <td>2.0</td>\n",
              "      <td>76.135</td>\n",
              "      <td>0.442353</td>\n",
              "      <td>34.76</td>\n",
              "      <td>0.0</td>\n",
              "      <td>0.391404</td>\n",
              "    </tr>\n",
              "  </tbody>\n",
              "</table>\n",
              "</div>\n",
              "      <button class=\"colab-df-convert\" onclick=\"convertToInteractive('df-209f772a-a79c-4bab-923f-36d22ffd326a')\"\n",
              "              title=\"Convert this dataframe to an interactive table.\"\n",
              "              style=\"display:none;\">\n",
              "        \n",
              "  <svg xmlns=\"http://www.w3.org/2000/svg\" height=\"24px\"viewBox=\"0 0 24 24\"\n",
              "       width=\"24px\">\n",
              "    <path d=\"M0 0h24v24H0V0z\" fill=\"none\"/>\n",
              "    <path d=\"M18.56 5.44l.94 2.06.94-2.06 2.06-.94-2.06-.94-.94-2.06-.94 2.06-2.06.94zm-11 1L8.5 8.5l.94-2.06 2.06-.94-2.06-.94L8.5 2.5l-.94 2.06-2.06.94zm10 10l.94 2.06.94-2.06 2.06-.94-2.06-.94-.94-2.06-.94 2.06-2.06.94z\"/><path d=\"M17.41 7.96l-1.37-1.37c-.4-.4-.92-.59-1.43-.59-.52 0-1.04.2-1.43.59L10.3 9.45l-7.72 7.72c-.78.78-.78 2.05 0 2.83L4 21.41c.39.39.9.59 1.41.59.51 0 1.02-.2 1.41-.59l7.78-7.78 2.81-2.81c.8-.78.8-2.07 0-2.86zM5.41 20L4 18.59l7.72-7.72 1.47 1.35L5.41 20z\"/>\n",
              "  </svg>\n",
              "      </button>\n",
              "      \n",
              "  <style>\n",
              "    .colab-df-container {\n",
              "      display:flex;\n",
              "      flex-wrap:wrap;\n",
              "      gap: 12px;\n",
              "    }\n",
              "\n",
              "    .colab-df-convert {\n",
              "      background-color: #E8F0FE;\n",
              "      border: none;\n",
              "      border-radius: 50%;\n",
              "      cursor: pointer;\n",
              "      display: none;\n",
              "      fill: #1967D2;\n",
              "      height: 32px;\n",
              "      padding: 0 0 0 0;\n",
              "      width: 32px;\n",
              "    }\n",
              "\n",
              "    .colab-df-convert:hover {\n",
              "      background-color: #E2EBFA;\n",
              "      box-shadow: 0px 1px 2px rgba(60, 64, 67, 0.3), 0px 1px 3px 1px rgba(60, 64, 67, 0.15);\n",
              "      fill: #174EA6;\n",
              "    }\n",
              "\n",
              "    [theme=dark] .colab-df-convert {\n",
              "      background-color: #3B4455;\n",
              "      fill: #D2E3FC;\n",
              "    }\n",
              "\n",
              "    [theme=dark] .colab-df-convert:hover {\n",
              "      background-color: #434B5C;\n",
              "      box-shadow: 0px 1px 3px 1px rgba(0, 0, 0, 0.15);\n",
              "      filter: drop-shadow(0px 1px 2px rgba(0, 0, 0, 0.3));\n",
              "      fill: #FFFFFF;\n",
              "    }\n",
              "  </style>\n",
              "\n",
              "      <script>\n",
              "        const buttonEl =\n",
              "          document.querySelector('#df-209f772a-a79c-4bab-923f-36d22ffd326a button.colab-df-convert');\n",
              "        buttonEl.style.display =\n",
              "          google.colab.kernel.accessAllowed ? 'block' : 'none';\n",
              "\n",
              "        async function convertToInteractive(key) {\n",
              "          const element = document.querySelector('#df-209f772a-a79c-4bab-923f-36d22ffd326a');\n",
              "          const dataTable =\n",
              "            await google.colab.kernel.invokeFunction('convertToInteractive',\n",
              "                                                     [key], {});\n",
              "          if (!dataTable) return;\n",
              "\n",
              "          const docLinkHtml = 'Like what you see? Visit the ' +\n",
              "            '<a target=\"_blank\" href=https://colab.research.google.com/notebooks/data_table.ipynb>data table notebook</a>'\n",
              "            + ' to learn more about interactive tables.';\n",
              "          element.innerHTML = '';\n",
              "          dataTable['output_type'] = 'display_data';\n",
              "          await google.colab.output.renderOutput(dataTable, element);\n",
              "          const docLink = document.createElement('div');\n",
              "          docLink.innerHTML = docLinkHtml;\n",
              "          element.appendChild(docLink);\n",
              "        }\n",
              "      </script>\n",
              "    </div>\n",
              "  </div>\n",
              "  "
            ]
          },
          "metadata": {},
          "execution_count": 3
        }
      ]
    },
    {
      "cell_type": "code",
      "source": [
        "#Verfiring that dataset does not have null\n",
        "x.isnull().sum()"
      ],
      "metadata": {
        "colab": {
          "base_uri": "https://localhost:8080/"
        },
        "id": "6ddgvL7FJCzX",
        "outputId": "433621a6-4889-4a5f-efe6-05dff3672fef"
      },
      "execution_count": 4,
      "outputs": [
        {
          "output_type": "execute_result",
          "data": {
            "text/plain": [
              "Unnamed: 0     0\n",
              "Participant    0\n",
              "HR             0\n",
              "EDA            0\n",
              "Temp           0\n",
              "Label          0\n",
              "EDA_ene        0\n",
              "dtype: int64"
            ]
          },
          "metadata": {},
          "execution_count": 4
        }
      ]
    },
    {
      "cell_type": "code",
      "source": [
        "D_Lstm = x.drop(['Participant','Unnamed: 0', 'EDA_ene'], axis = 1)\n",
        "D_Lstm.head()\n",
        "print(len(D_Lstm))"
      ],
      "metadata": {
        "colab": {
          "base_uri": "https://localhost:8080/"
        },
        "id": "REFxU7e-KUC-",
        "outputId": "12099890-d311-48f7-9391-02b7aefe3dc1"
      },
      "execution_count": 5,
      "outputs": [
        {
          "output_type": "stream",
          "name": "stdout",
          "text": [
            "958\n"
          ]
        }
      ]
    },
    {
      "cell_type": "code",
      "source": [
        "D_Lstm.head()"
      ],
      "metadata": {
        "colab": {
          "base_uri": "https://localhost:8080/",
          "height": 206
        },
        "id": "Kj5L055wMfpo",
        "outputId": "fdac38f8-0fc0-4c4e-ac32-cdb1fb4e5bcb"
      },
      "execution_count": 6,
      "outputs": [
        {
          "output_type": "execute_result",
          "data": {
            "text/plain": [
              "        HR       EDA   Temp  Label\n",
              "0  115.750  0.618226  34.76    0.0\n",
              "1   93.125  0.603330  34.80    0.0\n",
              "2   84.115  0.494090  34.84    0.0\n",
              "3   78.915  0.459171  34.83    0.0\n",
              "4   76.135  0.442353  34.76    0.0"
            ],
            "text/html": [
              "\n",
              "  <div id=\"df-1622a471-6ffa-481b-97b9-25a0b93a3877\">\n",
              "    <div class=\"colab-df-container\">\n",
              "      <div>\n",
              "<style scoped>\n",
              "    .dataframe tbody tr th:only-of-type {\n",
              "        vertical-align: middle;\n",
              "    }\n",
              "\n",
              "    .dataframe tbody tr th {\n",
              "        vertical-align: top;\n",
              "    }\n",
              "\n",
              "    .dataframe thead th {\n",
              "        text-align: right;\n",
              "    }\n",
              "</style>\n",
              "<table border=\"1\" class=\"dataframe\">\n",
              "  <thead>\n",
              "    <tr style=\"text-align: right;\">\n",
              "      <th></th>\n",
              "      <th>HR</th>\n",
              "      <th>EDA</th>\n",
              "      <th>Temp</th>\n",
              "      <th>Label</th>\n",
              "    </tr>\n",
              "  </thead>\n",
              "  <tbody>\n",
              "    <tr>\n",
              "      <th>0</th>\n",
              "      <td>115.750</td>\n",
              "      <td>0.618226</td>\n",
              "      <td>34.76</td>\n",
              "      <td>0.0</td>\n",
              "    </tr>\n",
              "    <tr>\n",
              "      <th>1</th>\n",
              "      <td>93.125</td>\n",
              "      <td>0.603330</td>\n",
              "      <td>34.80</td>\n",
              "      <td>0.0</td>\n",
              "    </tr>\n",
              "    <tr>\n",
              "      <th>2</th>\n",
              "      <td>84.115</td>\n",
              "      <td>0.494090</td>\n",
              "      <td>34.84</td>\n",
              "      <td>0.0</td>\n",
              "    </tr>\n",
              "    <tr>\n",
              "      <th>3</th>\n",
              "      <td>78.915</td>\n",
              "      <td>0.459171</td>\n",
              "      <td>34.83</td>\n",
              "      <td>0.0</td>\n",
              "    </tr>\n",
              "    <tr>\n",
              "      <th>4</th>\n",
              "      <td>76.135</td>\n",
              "      <td>0.442353</td>\n",
              "      <td>34.76</td>\n",
              "      <td>0.0</td>\n",
              "    </tr>\n",
              "  </tbody>\n",
              "</table>\n",
              "</div>\n",
              "      <button class=\"colab-df-convert\" onclick=\"convertToInteractive('df-1622a471-6ffa-481b-97b9-25a0b93a3877')\"\n",
              "              title=\"Convert this dataframe to an interactive table.\"\n",
              "              style=\"display:none;\">\n",
              "        \n",
              "  <svg xmlns=\"http://www.w3.org/2000/svg\" height=\"24px\"viewBox=\"0 0 24 24\"\n",
              "       width=\"24px\">\n",
              "    <path d=\"M0 0h24v24H0V0z\" fill=\"none\"/>\n",
              "    <path d=\"M18.56 5.44l.94 2.06.94-2.06 2.06-.94-2.06-.94-.94-2.06-.94 2.06-2.06.94zm-11 1L8.5 8.5l.94-2.06 2.06-.94-2.06-.94L8.5 2.5l-.94 2.06-2.06.94zm10 10l.94 2.06.94-2.06 2.06-.94-2.06-.94-.94-2.06-.94 2.06-2.06.94z\"/><path d=\"M17.41 7.96l-1.37-1.37c-.4-.4-.92-.59-1.43-.59-.52 0-1.04.2-1.43.59L10.3 9.45l-7.72 7.72c-.78.78-.78 2.05 0 2.83L4 21.41c.39.39.9.59 1.41.59.51 0 1.02-.2 1.41-.59l7.78-7.78 2.81-2.81c.8-.78.8-2.07 0-2.86zM5.41 20L4 18.59l7.72-7.72 1.47 1.35L5.41 20z\"/>\n",
              "  </svg>\n",
              "      </button>\n",
              "      \n",
              "  <style>\n",
              "    .colab-df-container {\n",
              "      display:flex;\n",
              "      flex-wrap:wrap;\n",
              "      gap: 12px;\n",
              "    }\n",
              "\n",
              "    .colab-df-convert {\n",
              "      background-color: #E8F0FE;\n",
              "      border: none;\n",
              "      border-radius: 50%;\n",
              "      cursor: pointer;\n",
              "      display: none;\n",
              "      fill: #1967D2;\n",
              "      height: 32px;\n",
              "      padding: 0 0 0 0;\n",
              "      width: 32px;\n",
              "    }\n",
              "\n",
              "    .colab-df-convert:hover {\n",
              "      background-color: #E2EBFA;\n",
              "      box-shadow: 0px 1px 2px rgba(60, 64, 67, 0.3), 0px 1px 3px 1px rgba(60, 64, 67, 0.15);\n",
              "      fill: #174EA6;\n",
              "    }\n",
              "\n",
              "    [theme=dark] .colab-df-convert {\n",
              "      background-color: #3B4455;\n",
              "      fill: #D2E3FC;\n",
              "    }\n",
              "\n",
              "    [theme=dark] .colab-df-convert:hover {\n",
              "      background-color: #434B5C;\n",
              "      box-shadow: 0px 1px 3px 1px rgba(0, 0, 0, 0.15);\n",
              "      filter: drop-shadow(0px 1px 2px rgba(0, 0, 0, 0.3));\n",
              "      fill: #FFFFFF;\n",
              "    }\n",
              "  </style>\n",
              "\n",
              "      <script>\n",
              "        const buttonEl =\n",
              "          document.querySelector('#df-1622a471-6ffa-481b-97b9-25a0b93a3877 button.colab-df-convert');\n",
              "        buttonEl.style.display =\n",
              "          google.colab.kernel.accessAllowed ? 'block' : 'none';\n",
              "\n",
              "        async function convertToInteractive(key) {\n",
              "          const element = document.querySelector('#df-1622a471-6ffa-481b-97b9-25a0b93a3877');\n",
              "          const dataTable =\n",
              "            await google.colab.kernel.invokeFunction('convertToInteractive',\n",
              "                                                     [key], {});\n",
              "          if (!dataTable) return;\n",
              "\n",
              "          const docLinkHtml = 'Like what you see? Visit the ' +\n",
              "            '<a target=\"_blank\" href=https://colab.research.google.com/notebooks/data_table.ipynb>data table notebook</a>'\n",
              "            + ' to learn more about interactive tables.';\n",
              "          element.innerHTML = '';\n",
              "          dataTable['output_type'] = 'display_data';\n",
              "          await google.colab.output.renderOutput(dataTable, element);\n",
              "          const docLink = document.createElement('div');\n",
              "          docLink.innerHTML = docLinkHtml;\n",
              "          element.appendChild(docLink);\n",
              "        }\n",
              "      </script>\n",
              "    </div>\n",
              "  </div>\n",
              "  "
            ]
          },
          "metadata": {},
          "execution_count": 6
        }
      ]
    },
    {
      "cell_type": "code",
      "source": [
        "# tensorflow imports\n",
        "from tensorflow import keras\n",
        "from keras import layers, models\n",
        "from keras.callbacks import EarlyStopping, ModelCheckpoint\n",
        "from sklearn.model_selection import train_test_split"
      ],
      "metadata": {
        "id": "Jc26nwZ-Lg2j"
      },
      "execution_count": 11,
      "outputs": []
    },
    {
      "cell_type": "code",
      "source": [
        "n_tr, n_val = int(0.6*len(D_Lstm)), int(0.25*len(D_Lstm))\n",
        "n_te = len(D_Lstm) - n_tr - n_val\n",
        "print('Samples for training: %d; validation: %d; test: %d' % (n_tr, n_val, n_te))"
      ],
      "metadata": {
        "colab": {
          "base_uri": "https://localhost:8080/"
        },
        "id": "b-iYm_pFLw1_",
        "outputId": "1c8654d7-2d05-42f9-ae05-0b3e2d2a2b74"
      },
      "execution_count": 7,
      "outputs": [
        {
          "output_type": "stream",
          "name": "stdout",
          "text": [
            "Samples for training: 574; validation: 239; test: 145\n"
          ]
        }
      ]
    },
    {
      "cell_type": "code",
      "source": [
        "# Get the data from the dataframe (dropping date column)\n",
        "data = D_Lstm.iloc[:, :-1].values\n",
        "print(data.shape)\n",
        "\n",
        "# We need to normalise our time series. Calculate mean and std from TRAINING DATA ONLY. \n",
        "# We'll use it on the validation and test sets.\n",
        "#data[:n_tr, :-1]\n",
        "mean_tr = data[:n_tr, :].mean(axis=0)\n",
        "std_tr = data[:n_tr, :].std(axis=0)\n",
        "data[:, :] = (data[:, :] - mean_tr) / std_tr\n",
        "\n",
        "\n",
        "y = D_Lstm['Label'].values.reshape(-1, 1)\n",
        "\n"
      ],
      "metadata": {
        "colab": {
          "base_uri": "https://localhost:8080/"
        },
        "id": "VHdLPRqWMM_7",
        "outputId": "bd391533-ddac-44ff-c9c9-d9736a4f0af4"
      },
      "execution_count": 8,
      "outputs": [
        {
          "output_type": "stream",
          "name": "stdout",
          "text": [
            "(958, 3)\n"
          ]
        }
      ]
    },
    {
      "cell_type": "code",
      "source": [
        "# We'll use a Dataset from keras to pass our data\n",
        "sampling_rate = 1  # we keep all data points\n",
        "sequence_length = 5  # 10s to predict stress \n",
        "delay = sampling_rate * sequence_length  # the target is the day after the end of the sequence\n",
        "batch_size = 30 "
      ],
      "metadata": {
        "id": "KrYBwyGtM5Sh"
      },
      "execution_count": 9,
      "outputs": []
    },
    {
      "cell_type": "code",
      "source": [
        "train_dataset = keras.utils.timeseries_dataset_from_array(\n",
        "    data[:-delay],\n",
        "    targets=y[delay:],\n",
        "    sampling_rate=sampling_rate, sequence_length=sequence_length,\n",
        "    batch_size=batch_size,\n",
        "    start_index=0, end_index=n_tr  \n",
        "    )\n",
        "\n",
        "val_dataset = keras.utils.timeseries_dataset_from_array(\n",
        "    data[:-delay],\n",
        "    targets=y[delay:],\n",
        "    sampling_rate=sampling_rate, sequence_length=sequence_length,\n",
        "    batch_size=batch_size,\n",
        "    start_index=n_tr, end_index=n_tr+n_val  \n",
        "    )\n",
        "\n",
        "test_dataset = keras.utils.timeseries_dataset_from_array(\n",
        "    data[:-delay],\n",
        "    targets=y[delay:],\n",
        "    sampling_rate=sampling_rate, sequence_length=sequence_length,\n",
        "    batch_size=batch_size,\n",
        "    start_index=n_tr+n_val  \n",
        "    )\n",
        "\n",
        "for X, target in train_dataset:\n",
        "    print(\"X shape:\", X.shape)\n",
        "    print(\"target shape:\", target.shape)\n",
        "\n",
        "    break  # so we only print once"
      ],
      "metadata": {
        "colab": {
          "base_uri": "https://localhost:8080/"
        },
        "id": "n-M01_q2O9sR",
        "outputId": "9bf25170-278b-46cd-e796-ba5e8c5530ed"
      },
      "execution_count": 12,
      "outputs": [
        {
          "output_type": "stream",
          "name": "stdout",
          "text": [
            "X shape: (30, 5, 3)\n",
            "target shape: (30, 1)\n"
          ]
        }
      ]
    },
    {
      "cell_type": "code",
      "source": [
        "model_lstm1 = models.Sequential()\n",
        "model_lstm1.add(layers.LSTM(40, input_shape=(sequence_length, len(D_Lstm.columns)-1)))\n",
        "model_lstm1.add(layers.Dense(1))\n",
        "\n",
        "model_lstm1.summary()"
      ],
      "metadata": {
        "colab": {
          "base_uri": "https://localhost:8080/"
        },
        "id": "axdbJ3jCPBjw",
        "outputId": "e54f2bd6-4394-4a20-bb56-527a2ca955b6"
      },
      "execution_count": 13,
      "outputs": [
        {
          "output_type": "stream",
          "name": "stdout",
          "text": [
            "Model: \"sequential\"\n",
            "_________________________________________________________________\n",
            " Layer (type)                Output Shape              Param #   \n",
            "=================================================================\n",
            " lstm (LSTM)                 (None, 40)                7040      \n",
            "                                                                 \n",
            " dense (Dense)               (None, 1)                 41        \n",
            "                                                                 \n",
            "=================================================================\n",
            "Total params: 7,081\n",
            "Trainable params: 7,081\n",
            "Non-trainable params: 0\n",
            "_________________________________________________________________\n"
          ]
        }
      ]
    },
    {
      "cell_type": "code",
      "source": [
        "n_epochs = 40"
      ],
      "metadata": {
        "id": "U-vt7qsrPKwO"
      },
      "execution_count": 14,
      "outputs": []
    },
    {
      "cell_type": "code",
      "source": [
        "model_lstm1.compile(optimizer='rmsprop', loss='mse', metrics=['mae'])\n",
        "history_lstm1 = model_lstm1.fit(train_dataset, epochs=n_epochs,\n",
        "                            validation_data=val_dataset)"
      ],
      "metadata": {
        "colab": {
          "base_uri": "https://localhost:8080/"
        },
        "id": "_-Q8TtYGPP4k",
        "outputId": "80baa695-fe14-4727-a813-696c2299da94"
      },
      "execution_count": 16,
      "outputs": [
        {
          "output_type": "stream",
          "name": "stdout",
          "text": [
            "Epoch 1/40\n",
            "19/19 [==============================] - 3s 44ms/step - loss: 0.0623 - mae: 0.1669 - val_loss: 1.4336 - val_mae: 0.9968\n",
            "Epoch 2/40\n",
            "19/19 [==============================] - 0s 15ms/step - loss: 0.0577 - mae: 0.1660 - val_loss: 1.4284 - val_mae: 0.9983\n",
            "Epoch 3/40\n",
            "19/19 [==============================] - 1s 28ms/step - loss: 0.0571 - mae: 0.1634 - val_loss: 1.4299 - val_mae: 0.9993\n",
            "Epoch 4/40\n",
            "19/19 [==============================] - 0s 24ms/step - loss: 0.0568 - mae: 0.1630 - val_loss: 1.4278 - val_mae: 0.9992\n",
            "Epoch 5/40\n",
            "19/19 [==============================] - 0s 22ms/step - loss: 0.0565 - mae: 0.1626 - val_loss: 1.4243 - val_mae: 0.9988\n",
            "Epoch 6/40\n",
            "19/19 [==============================] - 1s 26ms/step - loss: 0.0563 - mae: 0.1622 - val_loss: 1.4200 - val_mae: 0.9983\n",
            "Epoch 7/40\n",
            "19/19 [==============================] - 0s 15ms/step - loss: 0.0560 - mae: 0.1618 - val_loss: 1.4151 - val_mae: 0.9975\n",
            "Epoch 8/40\n",
            "19/19 [==============================] - 0s 15ms/step - loss: 0.0558 - mae: 0.1614 - val_loss: 1.4097 - val_mae: 0.9966\n",
            "Epoch 9/40\n",
            "19/19 [==============================] - 0s 16ms/step - loss: 0.0556 - mae: 0.1610 - val_loss: 1.4039 - val_mae: 0.9956\n",
            "Epoch 10/40\n",
            "19/19 [==============================] - 0s 20ms/step - loss: 0.0554 - mae: 0.1606 - val_loss: 1.3979 - val_mae: 0.9945\n",
            "Epoch 11/40\n",
            "19/19 [==============================] - 0s 18ms/step - loss: 0.0551 - mae: 0.1602 - val_loss: 1.3916 - val_mae: 0.9932\n",
            "Epoch 12/40\n",
            "19/19 [==============================] - 0s 16ms/step - loss: 0.0549 - mae: 0.1598 - val_loss: 1.3852 - val_mae: 0.9920\n",
            "Epoch 13/40\n",
            "19/19 [==============================] - 0s 14ms/step - loss: 0.0547 - mae: 0.1594 - val_loss: 1.3786 - val_mae: 0.9906\n",
            "Epoch 14/40\n",
            "19/19 [==============================] - 0s 15ms/step - loss: 0.0545 - mae: 0.1590 - val_loss: 1.3719 - val_mae: 0.9892\n",
            "Epoch 15/40\n",
            "19/19 [==============================] - 0s 16ms/step - loss: 0.0543 - mae: 0.1587 - val_loss: 1.3650 - val_mae: 0.9877\n",
            "Epoch 16/40\n",
            "19/19 [==============================] - 0s 15ms/step - loss: 0.0541 - mae: 0.1583 - val_loss: 1.3580 - val_mae: 0.9861\n",
            "Epoch 17/40\n",
            "19/19 [==============================] - 0s 16ms/step - loss: 0.0539 - mae: 0.1579 - val_loss: 1.3509 - val_mae: 0.9845\n",
            "Epoch 18/40\n",
            "19/19 [==============================] - 0s 14ms/step - loss: 0.0537 - mae: 0.1575 - val_loss: 1.3437 - val_mae: 0.9829\n",
            "Epoch 19/40\n",
            "19/19 [==============================] - 0s 15ms/step - loss: 0.0535 - mae: 0.1572 - val_loss: 1.3365 - val_mae: 0.9811\n",
            "Epoch 20/40\n",
            "19/19 [==============================] - 0s 16ms/step - loss: 0.0533 - mae: 0.1568 - val_loss: 1.3292 - val_mae: 0.9794\n",
            "Epoch 21/40\n",
            "19/19 [==============================] - 0s 15ms/step - loss: 0.0531 - mae: 0.1564 - val_loss: 1.3219 - val_mae: 0.9775\n",
            "Epoch 22/40\n",
            "19/19 [==============================] - 0s 15ms/step - loss: 0.0529 - mae: 0.1560 - val_loss: 1.3145 - val_mae: 0.9757\n",
            "Epoch 23/40\n",
            "19/19 [==============================] - 0s 15ms/step - loss: 0.0528 - mae: 0.1556 - val_loss: 1.3071 - val_mae: 0.9738\n",
            "Epoch 24/40\n",
            "19/19 [==============================] - 0s 15ms/step - loss: 0.0526 - mae: 0.1552 - val_loss: 1.2996 - val_mae: 0.9718\n",
            "Epoch 25/40\n",
            "19/19 [==============================] - 0s 16ms/step - loss: 0.0524 - mae: 0.1547 - val_loss: 1.2920 - val_mae: 0.9699\n",
            "Epoch 26/40\n",
            "19/19 [==============================] - 0s 15ms/step - loss: 0.0522 - mae: 0.1543 - val_loss: 1.2845 - val_mae: 0.9679\n",
            "Epoch 27/40\n",
            "19/19 [==============================] - 0s 21ms/step - loss: 0.0520 - mae: 0.1539 - val_loss: 1.2769 - val_mae: 0.9658\n",
            "Epoch 28/40\n",
            "19/19 [==============================] - 0s 22ms/step - loss: 0.0518 - mae: 0.1535 - val_loss: 1.2694 - val_mae: 0.9638\n",
            "Epoch 29/40\n",
            "19/19 [==============================] - 1s 27ms/step - loss: 0.0516 - mae: 0.1531 - val_loss: 1.2620 - val_mae: 0.9617\n",
            "Epoch 30/40\n",
            "19/19 [==============================] - 0s 22ms/step - loss: 0.0514 - mae: 0.1526 - val_loss: 1.2545 - val_mae: 0.9597\n",
            "Epoch 31/40\n",
            "19/19 [==============================] - 0s 15ms/step - loss: 0.0512 - mae: 0.1522 - val_loss: 1.2471 - val_mae: 0.9576\n",
            "Epoch 32/40\n",
            "19/19 [==============================] - 0s 16ms/step - loss: 0.0510 - mae: 0.1518 - val_loss: 1.2398 - val_mae: 0.9555\n",
            "Epoch 33/40\n",
            "19/19 [==============================] - 0s 16ms/step - loss: 0.0508 - mae: 0.1514 - val_loss: 1.2326 - val_mae: 0.9534\n",
            "Epoch 34/40\n",
            "19/19 [==============================] - 0s 19ms/step - loss: 0.0506 - mae: 0.1510 - val_loss: 1.2253 - val_mae: 0.9513\n",
            "Epoch 35/40\n",
            "19/19 [==============================] - 0s 16ms/step - loss: 0.0504 - mae: 0.1505 - val_loss: 1.2182 - val_mae: 0.9492\n",
            "Epoch 36/40\n",
            "19/19 [==============================] - 0s 14ms/step - loss: 0.0502 - mae: 0.1501 - val_loss: 1.2111 - val_mae: 0.9471\n",
            "Epoch 37/40\n",
            "19/19 [==============================] - 0s 17ms/step - loss: 0.0500 - mae: 0.1496 - val_loss: 1.2041 - val_mae: 0.9450\n",
            "Epoch 38/40\n",
            "19/19 [==============================] - 0s 15ms/step - loss: 0.0498 - mae: 0.1492 - val_loss: 1.1972 - val_mae: 0.9428\n",
            "Epoch 39/40\n",
            "19/19 [==============================] - 0s 14ms/step - loss: 0.0496 - mae: 0.1487 - val_loss: 1.1903 - val_mae: 0.9407\n",
            "Epoch 40/40\n",
            "19/19 [==============================] - 0s 14ms/step - loss: 0.0494 - mae: 0.1482 - val_loss: 1.1835 - val_mae: 0.9385\n"
          ]
        }
      ]
    },
    {
      "cell_type": "code",
      "source": [
        "results = model_lstm1.predict(test_dataset)"
      ],
      "metadata": {
        "colab": {
          "base_uri": "https://localhost:8080/"
        },
        "id": "QEC_LR6lPT60",
        "outputId": "67a1d7e5-51e2-4469-93e9-56a47b02655b"
      },
      "execution_count": 17,
      "outputs": [
        {
          "output_type": "stream",
          "name": "stdout",
          "text": [
            "5/5 [==============================] - 1s 6ms/step\n"
          ]
        }
      ]
    },
    {
      "cell_type": "code",
      "source": [
        "results"
      ],
      "metadata": {
        "colab": {
          "base_uri": "https://localhost:8080/"
        },
        "id": "1Z29rVLDTCB6",
        "outputId": "b92fd2b1-e363-49a4-fb3b-71a8ec471855"
      },
      "execution_count": 18,
      "outputs": [
        {
          "output_type": "execute_result",
          "data": {
            "text/plain": [
              "array([[1.5343981],\n",
              "       [1.5382123],\n",
              "       [1.5490341],\n",
              "       [1.559813 ],\n",
              "       [1.5767624],\n",
              "       [1.5942922],\n",
              "       [1.5886354],\n",
              "       [1.6012454],\n",
              "       [1.5953315],\n",
              "       [1.5915997],\n",
              "       [1.5996189],\n",
              "       [1.6069918],\n",
              "       [1.6227566],\n",
              "       [1.6201341],\n",
              "       [1.6116915],\n",
              "       [1.6065089],\n",
              "       [1.5755966],\n",
              "       [1.5231428],\n",
              "       [1.4986731],\n",
              "       [1.4851482],\n",
              "       [1.4591309],\n",
              "       [1.508615 ],\n",
              "       [1.5412608],\n",
              "       [1.536304 ],\n",
              "       [1.5312207],\n",
              "       [1.5218444],\n",
              "       [1.5254052],\n",
              "       [1.529503 ],\n",
              "       [1.5346651],\n",
              "       [1.5690448],\n",
              "       [1.5923426],\n",
              "       [1.6075243],\n",
              "       [1.6288335],\n",
              "       [1.6447773],\n",
              "       [1.641082 ],\n",
              "       [1.6247003],\n",
              "       [1.6119913],\n",
              "       [1.6042864],\n",
              "       [1.5910084],\n",
              "       [1.5953394],\n",
              "       [1.6129706],\n",
              "       [1.5883651],\n",
              "       [1.5685939],\n",
              "       [1.5716418],\n",
              "       [1.532244 ],\n",
              "       [1.5164031],\n",
              "       [1.5846875],\n",
              "       [1.6563461],\n",
              "       [1.7216127],\n",
              "       [1.8167479],\n",
              "       [1.9549649],\n",
              "       [2.094813 ],\n",
              "       [2.21992  ],\n",
              "       [2.3170304],\n",
              "       [2.4260466],\n",
              "       [2.583122 ],\n",
              "       [2.7360513],\n",
              "       [2.8378904],\n",
              "       [2.880213 ],\n",
              "       [2.8511803],\n",
              "       [2.851403 ],\n",
              "       [2.846393 ],\n",
              "       [2.8483334],\n",
              "       [2.838105 ],\n",
              "       [2.7913752],\n",
              "       [2.7219565],\n",
              "       [2.7182033],\n",
              "       [2.672683 ],\n",
              "       [2.6157382],\n",
              "       [2.751148 ],\n",
              "       [2.868953 ],\n",
              "       [2.8509114],\n",
              "       [2.8407063],\n",
              "       [2.823315 ],\n",
              "       [2.8110373],\n",
              "       [2.793432 ],\n",
              "       [2.7789307],\n",
              "       [2.7609303],\n",
              "       [2.6907191],\n",
              "       [2.6040967],\n",
              "       [2.5424092],\n",
              "       [2.4649527],\n",
              "       [2.3552465],\n",
              "       [2.347798 ],\n",
              "       [2.329672 ],\n",
              "       [2.221933 ],\n",
              "       [2.2250588],\n",
              "       [2.2427478],\n",
              "       [2.2613804],\n",
              "       [2.2140164],\n",
              "       [2.127802 ],\n",
              "       [1.9858848],\n",
              "       [1.8675679],\n",
              "       [1.8232208],\n",
              "       [1.8024969],\n",
              "       [1.8005075],\n",
              "       [1.8016276],\n",
              "       [1.8061321],\n",
              "       [1.8091187],\n",
              "       [1.8397962],\n",
              "       [1.7254024],\n",
              "       [1.6711992],\n",
              "       [1.6173861],\n",
              "       [1.5698965],\n",
              "       [1.5701215],\n",
              "       [1.5971212],\n",
              "       [1.55052  ],\n",
              "       [1.5393178],\n",
              "       [1.4771549],\n",
              "       [1.4199338],\n",
              "       [1.3924435],\n",
              "       [1.4047198],\n",
              "       [1.4094672],\n",
              "       [1.4372492],\n",
              "       [1.4204504],\n",
              "       [1.3973079],\n",
              "       [1.3988457],\n",
              "       [1.5279467],\n",
              "       [1.6924633],\n",
              "       [1.8518753],\n",
              "       [1.9690465],\n",
              "       [2.0638413],\n",
              "       [2.1463692],\n",
              "       [2.233841 ],\n",
              "       [2.3012125],\n",
              "       [2.3677843],\n",
              "       [2.3631508],\n",
              "       [2.3528962],\n",
              "       [2.332177 ],\n",
              "       [2.308266 ],\n",
              "       [2.247468 ],\n",
              "       [2.3888378],\n",
              "       [2.4946306],\n",
              "       [2.5846756],\n",
              "       [2.6072876],\n",
              "       [2.637796 ]], dtype=float32)"
            ]
          },
          "metadata": {},
          "execution_count": 18
        }
      ]
    },
    {
      "cell_type": "code",
      "source": [
        "import matplotlib\n",
        "import numpy as np\n",
        "import matplotlib.pyplot as plt"
      ],
      "metadata": {
        "id": "aQYW2Sx0P8oS"
      },
      "execution_count": 19,
      "outputs": []
    },
    {
      "cell_type": "code",
      "source": [
        "#Plotting predict data and  out\n",
        "xx=x.index\n",
        "t=xx.to_numpy()\n",
        "print(len(t))\n",
        "stress = x.values.T[5]# \n",
        "print(len(stress[:145]))\n",
        "plt.figure(figsize=(12,4), dpi=200)\n",
        "plt.plot(t[813:], stress[813:],'.-',color=\"#A233FF\",alpha=0.35,label=\"Stress level\")\n",
        "plt.plot(t[822:], results[:],'.-',color=\"#FD33FF\",alpha=0.55,label=\"Stress_predict\")\n",
        "plt.title(\"Test set\",fontsize=15)\n",
        "plt.legend()\n",
        "plt.xlabel(\"time\")\n",
        "plt.ylabel(\"level\")\n",
        "plt.grid('True')\n",
        "plt.show()"
      ],
      "metadata": {
        "colab": {
          "base_uri": "https://localhost:8080/",
          "height": 425
        },
        "id": "R8KBb9zBP_7T",
        "outputId": "0ef49af8-84d0-4323-fb38-6bd1c4f485d0"
      },
      "execution_count": 28,
      "outputs": [
        {
          "output_type": "stream",
          "name": "stdout",
          "text": [
            "958\n",
            "145\n"
          ]
        },
        {
          "output_type": "display_data",
          "data": {
            "text/plain": [
              "<Figure size 2400x800 with 1 Axes>"
            ],
            "image/png": "[encoded data removed]"
          },
          "metadata": {}
        }
      ]
    },
    {
      "cell_type": "code",
      "source": [
        "plt.plot(D_Lstm['Label'])\n",
        "plt.grid()"
      ],
      "metadata": {
        "id": "QqQ3lyxjQgsH",
        "colab": {
          "base_uri": "https://localhost:8080/",
          "height": 430
        },
        "outputId": "93049683-49bd-4664-c7be-bbccbcf16d4e"
      },
      "execution_count": 29,
      "outputs": [
        {
          "output_type": "display_data",
          "data": {
            "text/plain": [
              "<Figure size 640x480 with 1 Axes>"
            ],
            "image/png": "[encoded data removed]"
          },
          "metadata": {}
        }
      ]
    },
    {
      "cell_type": "code",
      "source": [],
      "metadata": {
        "id": "KCYSuPrMK1Td"
      },
      "execution_count": null,
      "outputs": []
    }
  ]
}